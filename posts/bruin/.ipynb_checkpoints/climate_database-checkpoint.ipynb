{
 "cells": [
  {
   "cell_type": "code",
   "execution_count": 1,
   "id": "019c7f7a-0c18-45b6-96e1-7bd1076e69b4",
   "metadata": {},
   "outputs": [],
   "source": [
    "import sqlite3\n",
    "import pandas as pd"
   ]
  },
  {
   "cell_type": "code",
   "execution_count": 2,
   "id": "0ce5d947-ee04-4597-947d-753acfd35a27",
   "metadata": {},
   "outputs": [],
   "source": [
    "def query_climate_database(db_file, country, year_begin, year_end, month):\n",
    "    # return: Pandas dataframe of temperature readings for the specified country,\n",
    "    # in the specified date range, in the specified month of the year\n",
    "\n",
    "    # dataframe should have the following columns\n",
    "        # name, latitude, longitude, country, year, month, and temp\n",
    "    \n",
    "    with sqlite3.connect(db_file) as conn:\n",
    "    # conn is automatically closed when this block ends\n",
    "        cmd = \\\n",
    "        f\"\"\"\n",
    "        SELECT S.NAME, S.LATITUDE, S.LONGITUDE, C.Name \"Country\", T.Year, T.Month, T.Temp\n",
    "        FROM temperatures T\n",
    "        LEFT JOIN stations S ON T.id = S.id\n",
    "        LEFT JOIN countries C on substring(T.id,1,2) = C.'FIPS 10-4'  \n",
    "        WHERE C.Name = \\\"{country}\\\"\n",
    "        AND \n",
    "        T.Year BETWEEN {year_begin} AND {year_end} \n",
    "        AND \n",
    "        T.month = {month}\n",
    "        \"\"\"\n",
    "    df = pd.read_sql_query(cmd, conn)\n",
    "    return df"
   ]
  }
 ],
 "metadata": {
  "kernelspec": {
   "display_name": "Python 3 (ipykernel)",
   "language": "python",
   "name": "python3"
  },
  "language_info": {
   "codemirror_mode": {
    "name": "ipython",
    "version": 3
   },
   "file_extension": ".py",
   "mimetype": "text/x-python",
   "name": "python",
   "nbconvert_exporter": "python",
   "pygments_lexer": "ipython3",
   "version": "3.11.6"
  }
 },
 "nbformat": 4,
 "nbformat_minor": 5
}
