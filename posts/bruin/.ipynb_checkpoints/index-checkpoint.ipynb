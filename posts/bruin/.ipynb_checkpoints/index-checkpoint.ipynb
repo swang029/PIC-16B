{
 "cells": [
  {
   "cell_type": "code",
   "execution_count": 1,
   "id": "ed474756-73cb-451b-aacb-3368c8ba4a47",
   "metadata": {},
   "outputs": [],
   "source": [
    "import sqlite3\n",
    "import pandas as pd\n",
    "import numpy as np\n",
    "from matplotlib import pyplot as plt\n",
    "from plotly import express as px\n",
    "from sklearn.linear_model import LinearRegression\n"
   ]
  },
  {
   "cell_type": "code",
   "execution_count": 4,
   "id": "6a86bb46-6bc7-46ed-97c1-960499b1541a",
   "metadata": {},
   "outputs": [
    {
     "data": {
      "text/plain": [
       "279"
      ]
     },
     "execution_count": 4,
     "metadata": {},
     "output_type": "execute_result"
    }
   ],
   "source": [
    "# Create a database with three tables: temperatures, stations, and countries\n",
    "    # need to access country names and related them to temperature readings\n",
    "    # keep as three seperate tables in your database\n",
    "    # need to close the database connection after finished constructing\n",
    "\n",
    "conn = sqlite3.connect(\"temps.db\") # creating a database for temps\n",
    "df_iter = pd.read_csv(\"/Users/shainawang/Documents/PIC_16B/temps.csv\")\n",
    "df = prepare_df(df_iter)\n",
    "df.to_sql(\"temperatures\", conn, if_exists = \"replace\", index = False)\n",
    "\n",
    "url = \"/Users/shainawang/Documents/PIC_16B/station-metadata.csv\"\n",
    "stations = pd.read_csv(url)\n",
    "stations.to_sql(\"stations\", conn, if_exists = \"replace\", index=False)\n",
    "\n",
    "countries_url = \"https://raw.githubusercontent.com/mysociety/gaze/master/data/fips-10-4-to-iso-country-codes.csv\"\n",
    "countries = pd.read_csv(countries_url)\n",
    "countries.to_sql(\"countries\", conn, if_exists = \"replace\", index = False)"
   ]
  },
  {
   "cell_type": "code",
   "execution_count": 3,
   "id": "fbfc6f6f-86ca-4cfa-b082-a7446d161b1d",
   "metadata": {},
   "outputs": [],
   "source": [
    "def prepare_df(df):\n",
    "    df = df.set_index(keys=[\"ID\", \"Year\"])\n",
    "    df = df.stack()\n",
    "    df = df.reset_index()\n",
    "    df = df.rename(columns = {\"level_2\"  : \"Month\" , 0 : \"Temp\"})\n",
    "    df[\"Month\"] = df[\"Month\"].str[5:].astype(int)\n",
    "    df[\"Temp\"]  = df[\"Temp\"] / 100\n",
    "    return(df)"
   ]
  },
  {
   "cell_type": "code",
   "execution_count": 58,
   "id": "8e46e385-cbc1-4b66-8b67-2f192337a6a8",
   "metadata": {},
   "outputs": [
    {
     "data": {
      "text/html": [
       "<div>\n",
       "<style scoped>\n",
       "    .dataframe tbody tr th:only-of-type {\n",
       "        vertical-align: middle;\n",
       "    }\n",
       "\n",
       "    .dataframe tbody tr th {\n",
       "        vertical-align: top;\n",
       "    }\n",
       "\n",
       "    .dataframe thead th {\n",
       "        text-align: right;\n",
       "    }\n",
       "</style>\n",
       "<table border=\"1\" class=\"dataframe\">\n",
       "  <thead>\n",
       "    <tr style=\"text-align: right;\">\n",
       "      <th></th>\n",
       "      <th>ID</th>\n",
       "      <th>Year</th>\n",
       "      <th>Month</th>\n",
       "      <th>Temp</th>\n",
       "    </tr>\n",
       "  </thead>\n",
       "  <tbody>\n",
       "    <tr>\n",
       "      <th>0</th>\n",
       "      <td>ACW00011604</td>\n",
       "      <td>1961</td>\n",
       "      <td>1</td>\n",
       "      <td>-0.89</td>\n",
       "    </tr>\n",
       "    <tr>\n",
       "      <th>1</th>\n",
       "      <td>ACW00011604</td>\n",
       "      <td>1961</td>\n",
       "      <td>2</td>\n",
       "      <td>2.36</td>\n",
       "    </tr>\n",
       "    <tr>\n",
       "      <th>2</th>\n",
       "      <td>ACW00011604</td>\n",
       "      <td>1961</td>\n",
       "      <td>3</td>\n",
       "      <td>4.72</td>\n",
       "    </tr>\n",
       "    <tr>\n",
       "      <th>3</th>\n",
       "      <td>ACW00011604</td>\n",
       "      <td>1961</td>\n",
       "      <td>4</td>\n",
       "      <td>7.73</td>\n",
       "    </tr>\n",
       "    <tr>\n",
       "      <th>4</th>\n",
       "      <td>ACW00011604</td>\n",
       "      <td>1961</td>\n",
       "      <td>5</td>\n",
       "      <td>11.28</td>\n",
       "    </tr>\n",
       "    <tr>\n",
       "      <th>...</th>\n",
       "      <td>...</td>\n",
       "      <td>...</td>\n",
       "      <td>...</td>\n",
       "      <td>...</td>\n",
       "    </tr>\n",
       "    <tr>\n",
       "      <th>13992657</th>\n",
       "      <td>ZIXLT622116</td>\n",
       "      <td>1970</td>\n",
       "      <td>8</td>\n",
       "      <td>15.40</td>\n",
       "    </tr>\n",
       "    <tr>\n",
       "      <th>13992658</th>\n",
       "      <td>ZIXLT622116</td>\n",
       "      <td>1970</td>\n",
       "      <td>9</td>\n",
       "      <td>20.40</td>\n",
       "    </tr>\n",
       "    <tr>\n",
       "      <th>13992659</th>\n",
       "      <td>ZIXLT622116</td>\n",
       "      <td>1970</td>\n",
       "      <td>10</td>\n",
       "      <td>20.30</td>\n",
       "    </tr>\n",
       "    <tr>\n",
       "      <th>13992660</th>\n",
       "      <td>ZIXLT622116</td>\n",
       "      <td>1970</td>\n",
       "      <td>11</td>\n",
       "      <td>21.30</td>\n",
       "    </tr>\n",
       "    <tr>\n",
       "      <th>13992661</th>\n",
       "      <td>ZIXLT622116</td>\n",
       "      <td>1970</td>\n",
       "      <td>12</td>\n",
       "      <td>21.50</td>\n",
       "    </tr>\n",
       "  </tbody>\n",
       "</table>\n",
       "<p>13992662 rows × 4 columns</p>\n",
       "</div>"
      ],
      "text/plain": [
       "                   ID  Year  Month   Temp\n",
       "0         ACW00011604  1961      1  -0.89\n",
       "1         ACW00011604  1961      2   2.36\n",
       "2         ACW00011604  1961      3   4.72\n",
       "3         ACW00011604  1961      4   7.73\n",
       "4         ACW00011604  1961      5  11.28\n",
       "...               ...   ...    ...    ...\n",
       "13992657  ZIXLT622116  1970      8  15.40\n",
       "13992658  ZIXLT622116  1970      9  20.40\n",
       "13992659  ZIXLT622116  1970     10  20.30\n",
       "13992660  ZIXLT622116  1970     11  21.30\n",
       "13992661  ZIXLT622116  1970     12  21.50\n",
       "\n",
       "[13992662 rows x 4 columns]"
      ]
     },
     "execution_count": 58,
     "metadata": {},
     "output_type": "execute_result"
    }
   ],
   "source": [
    "# df_iter = pd.read_csv(\"/Users/shainawang/Documents/PIC_16B/temps.csv\", chunksize = 100000)\n",
    "# df = df_iter.__next__()\n",
    "# df = prepare_df(df)\n",
    "df"
   ]
  },
  {
   "cell_type": "code",
   "execution_count": 31,
   "id": "34b54b30-261d-4ea5-a449-8cdd0d9d5a94",
   "metadata": {},
   "outputs": [
    {
     "name": "stdout",
     "output_type": "stream",
     "text": [
      "[('temperatures',), ('stations',), ('countries',)]\n"
     ]
    }
   ],
   "source": [
    "cursor = conn.cursor()\n",
    "cursor.execute(\"SELECT name FROM sqlite_master WHERE type='table'\")\n",
    "print(cursor.fetchall())"
   ]
  },
  {
   "cell_type": "code",
   "execution_count": 54,
   "id": "4702e5cc",
   "metadata": {},
   "outputs": [
    {
     "name": "stdout",
     "output_type": "stream",
     "text": [
      "CREATE TABLE \"temperatures\" (\n",
      "\"ID\" TEXT,\n",
      "  \"Year\" INTEGER,\n",
      "  \"Month\" INTEGER,\n",
      "  \"Temp\" REAL\n",
      ")\n",
      "CREATE TABLE \"stations\" (\n",
      "\"ID\" TEXT,\n",
      "  \"LATITUDE\" REAL,\n",
      "  \"LONGITUDE\" REAL,\n",
      "  \"STNELEV\" REAL,\n",
      "  \"NAME\" TEXT\n",
      ")\n",
      "CREATE TABLE \"countries\" (\n",
      "\"FIPS 10-4\" TEXT,\n",
      "  \"ISO 3166\" TEXT,\n",
      "  \"Name\" TEXT\n",
      ")\n"
     ]
    }
   ],
   "source": [
    "cursor.execute(\"SELECT sql FROM sqlite_master WHERE type='table';\")\n",
    "\n",
    "for result in cursor.fetchall():\n",
    "    print(result[0])"
   ]
  },
  {
   "cell_type": "code",
   "execution_count": 17,
   "id": "edfc3ab1-2ef8-4a5b-846f-110a7689596d",
   "metadata": {},
   "outputs": [],
   "source": [
    "conn.close()"
   ]
  },
  {
   "cell_type": "code",
   "execution_count": 5,
   "id": "260acbe3-9b97-4ff2-82e2-fa4e79a9aac1",
   "metadata": {},
   "outputs": [],
   "source": [
    "# Write a query function\n",
    "from climate_database import query_climate_database\n",
    "import inspect"
   ]
  },
  {
   "cell_type": "code",
   "execution_count": 6,
   "id": "3c96ac31",
   "metadata": {},
   "outputs": [
    {
     "data": {
      "text/html": [
       "<div>\n",
       "<style scoped>\n",
       "    .dataframe tbody tr th:only-of-type {\n",
       "        vertical-align: middle;\n",
       "    }\n",
       "\n",
       "    .dataframe tbody tr th {\n",
       "        vertical-align: top;\n",
       "    }\n",
       "\n",
       "    .dataframe thead th {\n",
       "        text-align: right;\n",
       "    }\n",
       "</style>\n",
       "<table border=\"1\" class=\"dataframe\">\n",
       "  <thead>\n",
       "    <tr style=\"text-align: right;\">\n",
       "      <th></th>\n",
       "      <th>NAME</th>\n",
       "      <th>LATITUDE</th>\n",
       "      <th>LONGITUDE</th>\n",
       "      <th>Country</th>\n",
       "      <th>Year</th>\n",
       "      <th>Month</th>\n",
       "      <th>Temp</th>\n",
       "    </tr>\n",
       "  </thead>\n",
       "  <tbody>\n",
       "    <tr>\n",
       "      <th>0</th>\n",
       "      <td>PBO_ANANTAPUR</td>\n",
       "      <td>14.583</td>\n",
       "      <td>77.633</td>\n",
       "      <td>India</td>\n",
       "      <td>1980</td>\n",
       "      <td>1</td>\n",
       "      <td>23.48</td>\n",
       "    </tr>\n",
       "    <tr>\n",
       "      <th>1</th>\n",
       "      <td>PBO_ANANTAPUR</td>\n",
       "      <td>14.583</td>\n",
       "      <td>77.633</td>\n",
       "      <td>India</td>\n",
       "      <td>1981</td>\n",
       "      <td>1</td>\n",
       "      <td>24.57</td>\n",
       "    </tr>\n",
       "    <tr>\n",
       "      <th>2</th>\n",
       "      <td>PBO_ANANTAPUR</td>\n",
       "      <td>14.583</td>\n",
       "      <td>77.633</td>\n",
       "      <td>India</td>\n",
       "      <td>1982</td>\n",
       "      <td>1</td>\n",
       "      <td>24.19</td>\n",
       "    </tr>\n",
       "    <tr>\n",
       "      <th>3</th>\n",
       "      <td>PBO_ANANTAPUR</td>\n",
       "      <td>14.583</td>\n",
       "      <td>77.633</td>\n",
       "      <td>India</td>\n",
       "      <td>1983</td>\n",
       "      <td>1</td>\n",
       "      <td>23.51</td>\n",
       "    </tr>\n",
       "    <tr>\n",
       "      <th>4</th>\n",
       "      <td>PBO_ANANTAPUR</td>\n",
       "      <td>14.583</td>\n",
       "      <td>77.633</td>\n",
       "      <td>India</td>\n",
       "      <td>1984</td>\n",
       "      <td>1</td>\n",
       "      <td>24.81</td>\n",
       "    </tr>\n",
       "    <tr>\n",
       "      <th>...</th>\n",
       "      <td>...</td>\n",
       "      <td>...</td>\n",
       "      <td>...</td>\n",
       "      <td>...</td>\n",
       "      <td>...</td>\n",
       "      <td>...</td>\n",
       "      <td>...</td>\n",
       "    </tr>\n",
       "    <tr>\n",
       "      <th>3147</th>\n",
       "      <td>DARJEELING</td>\n",
       "      <td>27.050</td>\n",
       "      <td>88.270</td>\n",
       "      <td>India</td>\n",
       "      <td>1983</td>\n",
       "      <td>1</td>\n",
       "      <td>5.10</td>\n",
       "    </tr>\n",
       "    <tr>\n",
       "      <th>3148</th>\n",
       "      <td>DARJEELING</td>\n",
       "      <td>27.050</td>\n",
       "      <td>88.270</td>\n",
       "      <td>India</td>\n",
       "      <td>1986</td>\n",
       "      <td>1</td>\n",
       "      <td>6.90</td>\n",
       "    </tr>\n",
       "    <tr>\n",
       "      <th>3149</th>\n",
       "      <td>DARJEELING</td>\n",
       "      <td>27.050</td>\n",
       "      <td>88.270</td>\n",
       "      <td>India</td>\n",
       "      <td>1994</td>\n",
       "      <td>1</td>\n",
       "      <td>8.10</td>\n",
       "    </tr>\n",
       "    <tr>\n",
       "      <th>3150</th>\n",
       "      <td>DARJEELING</td>\n",
       "      <td>27.050</td>\n",
       "      <td>88.270</td>\n",
       "      <td>India</td>\n",
       "      <td>1995</td>\n",
       "      <td>1</td>\n",
       "      <td>5.60</td>\n",
       "    </tr>\n",
       "    <tr>\n",
       "      <th>3151</th>\n",
       "      <td>DARJEELING</td>\n",
       "      <td>27.050</td>\n",
       "      <td>88.270</td>\n",
       "      <td>India</td>\n",
       "      <td>1997</td>\n",
       "      <td>1</td>\n",
       "      <td>5.70</td>\n",
       "    </tr>\n",
       "  </tbody>\n",
       "</table>\n",
       "<p>3152 rows × 7 columns</p>\n",
       "</div>"
      ],
      "text/plain": [
       "               NAME  LATITUDE  LONGITUDE Country  Year  Month   Temp\n",
       "0     PBO_ANANTAPUR    14.583     77.633   India  1980      1  23.48\n",
       "1     PBO_ANANTAPUR    14.583     77.633   India  1981      1  24.57\n",
       "2     PBO_ANANTAPUR    14.583     77.633   India  1982      1  24.19\n",
       "3     PBO_ANANTAPUR    14.583     77.633   India  1983      1  23.51\n",
       "4     PBO_ANANTAPUR    14.583     77.633   India  1984      1  24.81\n",
       "...             ...       ...        ...     ...   ...    ...    ...\n",
       "3147     DARJEELING    27.050     88.270   India  1983      1   5.10\n",
       "3148     DARJEELING    27.050     88.270   India  1986      1   6.90\n",
       "3149     DARJEELING    27.050     88.270   India  1994      1   8.10\n",
       "3150     DARJEELING    27.050     88.270   India  1995      1   5.60\n",
       "3151     DARJEELING    27.050     88.270   India  1997      1   5.70\n",
       "\n",
       "[3152 rows x 7 columns]"
      ]
     },
     "execution_count": 6,
     "metadata": {},
     "output_type": "execute_result"
    }
   ],
   "source": [
    "query_climate_database(db_file = \"temps.db\",\n",
    "                       country = \"India\", \n",
    "                       year_begin = 1980, \n",
    "                       year_end = 2020,\n",
    "                       month = 1)"
   ]
  },
  {
   "cell_type": "code",
   "execution_count": 18,
   "id": "2ad9a954",
   "metadata": {},
   "outputs": [],
   "source": [
    "# Part 3\n",
    "def temperature_coefficient_plot(db_file, country, year_begin, year_end, month,\n",
    "                                min_obs, **kwargs) :\n",
    "    with sqlite3.connect(db_file) as conn:\n",
    "    # conn is automatically closed when this block ends\n",
    "        cmd = \\\n",
    "        f\"\"\"\n",
    "        SELECT S.NAME, S.LATITUDE, S.LONGITUDE, C.Name \"Country\", T.Year, T.Month, T.Temp\n",
    "        FROM temperatures T\n",
    "        LEFT JOIN stations S ON T.id = S.id\n",
    "        LEFT JOIN countries C on substring(T.id,1,2) = C.'FIPS 10-4'  \n",
    "        WHERE C.Name = \\\"{country}\\\"\n",
    "        AND \n",
    "        T.Year BETWEEN {year_begin} AND {year_end} \n",
    "        AND \n",
    "        T.month = {month}\n",
    "        \"\"\"\n",
    "    df = pd.read_sql_query(cmd, conn)\n",
    "    \n",
    "    df[\"rank\"] = df.groupby([\"NAME\", \"Month\"])[\"Temp\"].rank().astype(int)\n",
    "    df[\"len\"] = df.groupby([\"NAME\", \"Month\"])[\"rank\"].transform(len)\n",
    "    min_observation = df[df[\"len\"] >= min_obs]\n",
    "    \n",
    "    def coef(data_group):\n",
    "        x = data_group[[\"Year\"]] # 2 brackets because X should be a df\n",
    "        y = data_group[\"Temp\"]   # 1 bracket because y should be a series\n",
    "        LR = LinearRegression()\n",
    "        LR.fit(x, y)\n",
    "        return LR.coef_[0]\n",
    "    \n",
    "    coefs = min_observation.groupby([\"NAME\", \"Month\", \"LATITUDE\", \"LONGITUDE\"]).apply(coef)\n",
    "    coefs = coefs.reset_index()\n",
    "\n",
    "    df = coefs.rename(columns={0: 'Yearly Increase'})\n",
    "    \n",
    "    fig = px.scatter_mapbox(df,\n",
    "                        lat = \"LATITUDE\",\n",
    "                        lon = \"LONGITUDE\",\n",
    "                        hover_name = \"NAME\",\n",
    "                        color = \"Yearly Increase\",\n",
    "                        height = 300,\n",
    "                        **kwargs\n",
    "                       )\n",
    "                        \n",
    "    fig.update_layout(margin={\"r\":0,\"t\":0,\"l\":0,\"b\":0})\n",
    "    return fig"
   ]
  },
  {
   "cell_type": "code",
   "execution_count": 19,
   "id": "827b9600",
   "metadata": {},
   "outputs": [
    {
     "data": {
      "application/vnd.plotly.v1+json": {
       "config": {
        "plotlyServerURL": "https://plot.ly"
       },
       "data": [
        {
         "hovertemplate": "<b>%{hovertext}</b><br><br>LATITUDE=%{lat}<br>LONGITUDE=%{lon}<br>Yearly Increase=%{marker.color}<extra></extra>",
         "hovertext": [
          "AGARTALA",
          "AHMADABAD",
          "AKOLA",
          "AKOLA",
          "ALLAHABAD",
          "ALLAHABAD_BAMHRAULI",
          "AMRITSAR",
          "AURANGABAD_CHIKALTH",
          "BALASORE",
          "BANGALORE",
          "BAREILLY",
          "BEGUMPETOBSY",
          "BELGAUM_SAMBRA",
          "BHOPAL_BAIRAGARH",
          "BHUBANESWAR",
          "BHUJ_RUDRAMATA",
          "BIKANER",
          "BOMBAY_COLABA",
          "BOMBAY_SANTACRUZ",
          "CALCUTTA_ALIPORE",
          "CALCUTTA_DUM_DUM",
          "CHERRAPUNJI",
          "CHERRA_POONJEE",
          "CHITRADURGA",
          "COIMBATORE_PEELAMED",
          "CUDDALORE",
          "DALTONGANJ",
          "DEHRADUN",
          "DIBRUGARH_MOHANBAR",
          "DUMKA",
          "DWARKA",
          "GADAG",
          "GANGANAGAR",
          "GAUHATI",
          "GAYA",
          "GOA_PANJIM",
          "GORAKHPUR",
          "GUNA",
          "GWALIOR",
          "HISSAR",
          "HONAVAR",
          "IMPHAL",
          "INDORE",
          "JABALPUR",
          "JAGDALPUR",
          "JAIPUR_SANGANER",
          "JAISALMER",
          "JHARSUGUDA",
          "JODHPUR",
          "KAKINADA",
          "KARAIKAL",
          "KODAIKANAL",
          "KOTA_AERODROME",
          "KOZHIKODE",
          "KURNOOL",
          "LUCKNOW_AMAUSI",
          "LUDHIANA",
          "MACHILIPATNAM",
          "MADRAS_MINAMBAKKAM",
          "MANGALORE_BAJPE",
          "MINICOY",
          "MINICOYOBSY",
          "MO_AMINI",
          "MO_RANCHI",
          "MUKTESWAR_KUMAON",
          "NAGPUR_SONEGAON",
          "NELLORE",
          "NEW_DELHI_PALAM",
          "NEW_DELHI_SAFDARJUN",
          "NORTH_LAKHIMPUR",
          "PAMBAN",
          "PATIALA",
          "PATNA",
          "PBO_ANANTAPUR",
          "PENDRA_ROAD",
          "POONA",
          "PORT_BLAIR",
          "RAIPUR",
          "RAJKOT",
          "RAMGUNDAM",
          "RATNAGIRI",
          "SAGAR",
          "SANDHEADS",
          "SATNA",
          "SHILONG",
          "SHIMLA",
          "SHOLAPUR",
          "SILCHAR",
          "SRINAGAR",
          "SURAT",
          "TEZPUR",
          "THIRUVANANTHAPURAM",
          "THIRUVANANTHAPURAM",
          "TIRUCHCHIRAPALLI",
          "TRIVANDRUM",
          "UDAIPUR_DABOK",
          "VARANASI_BABATPUR",
          "VERAVAL",
          "VISHAKHAPATNAM"
         ],
         "lat": [
          23.883,
          23.067,
          20.7,
          20.7,
          25.441,
          25.5,
          31.71,
          19.85,
          21.517,
          12.967,
          28.367,
          17.45,
          15.85,
          23.283,
          20.25,
          23.25,
          28,
          18.9,
          19.117,
          22.533,
          22.65,
          25.25,
          25.25,
          14.233,
          11.033,
          11.767,
          24.05,
          30.317,
          27.483,
          24.267,
          22.3667,
          15.417,
          29.917,
          26.1,
          24.75,
          15.483,
          26.75,
          24.65,
          26.233,
          29.167,
          14.283,
          24.667,
          22.717,
          23.2,
          19.083,
          26.817,
          26.9,
          21.917,
          26.3,
          16.95,
          10.917,
          10.2333,
          25.15,
          11.25,
          15.8,
          26.75,
          30.9333,
          16.2,
          13,
          12.917,
          8.3,
          8.3,
          11.117,
          23.317,
          29.4667,
          21.1,
          14.45,
          28.567,
          28.583,
          27.233,
          9.267,
          30.333,
          25.6,
          14.583,
          22.767,
          18.533,
          11.667,
          21.217,
          22.3,
          18.767,
          16.983,
          23.85,
          20.85,
          24.567,
          25.6,
          31.1,
          17.667,
          24.82,
          34.083,
          21.2,
          26.617,
          8.467,
          8.483,
          10.767,
          8.5,
          24.617,
          25.45,
          20.9,
          17.717
         ],
         "legendgroup": "",
         "lon": [
          91.25,
          72.633,
          77.033,
          77.067,
          81.735,
          81.9,
          74.797,
          75.4,
          86.933,
          77.583,
          79.4,
          78.47,
          74.617,
          77.35,
          85.833,
          69.667,
          73.3,
          72.8167,
          72.85,
          88.333,
          88.45,
          91.7333,
          91.73,
          76.433,
          77.05,
          79.767,
          84.067,
          78.033,
          95.017,
          87.25,
          69.0833,
          75.633,
          73.917,
          91.583,
          84.95,
          73.817,
          83.367,
          77.317,
          78.25,
          75.733,
          74.45,
          93.9,
          75.8,
          79.95,
          82.033,
          75.8,
          70.917,
          84.083,
          73.017,
          82.233,
          79.833,
          77.4667,
          75.85,
          75.783,
          78.067,
          80.883,
          75.8667,
          81.15,
          80.183,
          74.883,
          73.15,
          73,
          72.733,
          85.317,
          79.65,
          79.05,
          79.983,
          77.117,
          77.2,
          94.117,
          79.3,
          76.467,
          85.1,
          77.633,
          81.9,
          73.85,
          92.717,
          81.667,
          70.783,
          79.433,
          73.333,
          78.75,
          88.25,
          80.833,
          91.89,
          77.167,
          75.9,
          92.83,
          74.833,
          72.833,
          92.783,
          76.95,
          76.95,
          78.717,
          77,
          73.883,
          82.867,
          70.367,
          83.233
         ],
         "marker": {
          "color": [
           -0.006183811129848238,
           0.0067308597025915766,
           -0.0017758837772397095,
           -0.005939334120591499,
           -0.029375055494716883,
           -0.01545666555613727,
           -0.00699792531120331,
           0.012432445591314102,
           -0.00853532162264629,
           0.0360485735708181,
           -0.01692167188537811,
           0.010659470125093384,
           -0.0035940766550522575,
           -0.022141209450285828,
           -0.016133488420135563,
           0.06992104800808187,
           0.01718013781034673,
           0.011445804713175408,
           0.03473019082522431,
           -0.010346634984974477,
           -0.0161829268292683,
           0.04650531543205272,
           -0.02196969696969708,
           0.015587015613548466,
           0.03437011427849288,
           0.02080581199666612,
           -0.004619796704508838,
           0.04361124694376528,
           0.051959662288930585,
           -0.0820879120879119,
           0.016960521326348618,
           0.008918216844784598,
           -0.007582417582417614,
           0.014095447695660174,
           -0.01813076923076922,
           0.022398954703832772,
           0.0039398484370066185,
           -0.009171504550732236,
           -0.018395355327177645,
           -0.0033838255106870938,
           -0.0491733006736069,
           0.06331277990523787,
           0.003005167859002305,
           -0.025226394467890417,
           -0.0001382889963445708,
           0.006747873199496707,
           0.002615235927732999,
           -0.018483861496963124,
           0.00967608910193149,
           0.02601663112816565,
           0.021293478260869626,
           0.06909090909090908,
           -0.018580394821543535,
           0.03339100605670795,
           0.025653099244929176,
           -0.03722626774847871,
           0.13179063360881538,
           0.01226704591942323,
           0.02374484590118107,
           0.02328917118539812,
           0.025210476706174916,
           0.014113772841738221,
           -0.006249999999999854,
           0.005267073384831474,
           0.01548473928233975,
           -0.02462120461695937,
           0.02346685125913133,
           0.005587703435804699,
           -0.002409407665505227,
           0.09547548433389141,
           0.024844173744931843,
           -0.011647126557102462,
           -0.02185513438609661,
           0.026258125009932767,
           -0.009553449032801422,
           -0.0004445988190343688,
           0.030734217877094964,
           0.001427210836361089,
           0.015685536018150894,
           -0.00888194853663324,
           0.003240895098029199,
           0.0015395460312984538,
           -0.052447665056360726,
           -0.022613636363636384,
           0.013454496208017324,
           0.004006465200568158,
           0.0037817395036120536,
           0.016082518381040727,
           0.04876296814627764,
           0.023199215429258024,
           0.03942452222460808,
           0.008583554116377186,
           0.02058426411063232,
           0.014605567154412205,
           0.022892088111541916,
           0.07242424242424236,
           -0.012996067688773032,
           0.024848432055749124,
           -0.03404972919743972
          ],
          "coloraxis": "coloraxis"
         },
         "mode": "markers",
         "name": "",
         "showlegend": false,
         "subplot": "mapbox",
         "type": "scattermapbox"
        }
       ],
       "layout": {
        "coloraxis": {
         "colorbar": {
          "title": {
           "text": "Yearly Increase"
          }
         },
         "colorscale": [
          [
           0,
           "rgb(26,26,26)"
          ],
          [
           0.1,
           "rgb(77,77,77)"
          ],
          [
           0.2,
           "rgb(135,135,135)"
          ],
          [
           0.3,
           "rgb(186,186,186)"
          ],
          [
           0.4,
           "rgb(224,224,224)"
          ],
          [
           0.5,
           "rgb(255,255,255)"
          ],
          [
           0.6,
           "rgb(253,219,199)"
          ],
          [
           0.7,
           "rgb(244,165,130)"
          ],
          [
           0.8,
           "rgb(214,96,77)"
          ],
          [
           0.9,
           "rgb(178,24,43)"
          ],
          [
           1,
           "rgb(103,0,31)"
          ]
         ]
        },
        "height": 300,
        "legend": {
         "tracegroupgap": 0
        },
        "mapbox": {
         "center": {
          "lat": 21.042010101010103,
          "lon": 79.63467373737375
         },
         "domain": {
          "x": [
           0,
           1
          ],
          "y": [
           0,
           1
          ]
         },
         "style": "carto-positron",
         "zoom": 2
        },
        "margin": {
         "b": 0,
         "l": 0,
         "r": 0,
         "t": 0
        },
        "template": {
         "data": {
          "bar": [
           {
            "error_x": {
             "color": "#2a3f5f"
            },
            "error_y": {
             "color": "#2a3f5f"
            },
            "marker": {
             "line": {
              "color": "#E5ECF6",
              "width": 0.5
             },
             "pattern": {
              "fillmode": "overlay",
              "size": 10,
              "solidity": 0.2
             }
            },
            "type": "bar"
           }
          ],
          "barpolar": [
           {
            "marker": {
             "line": {
              "color": "#E5ECF6",
              "width": 0.5
             },
             "pattern": {
              "fillmode": "overlay",
              "size": 10,
              "solidity": 0.2
             }
            },
            "type": "barpolar"
           }
          ],
          "carpet": [
           {
            "aaxis": {
             "endlinecolor": "#2a3f5f",
             "gridcolor": "white",
             "linecolor": "white",
             "minorgridcolor": "white",
             "startlinecolor": "#2a3f5f"
            },
            "baxis": {
             "endlinecolor": "#2a3f5f",
             "gridcolor": "white",
             "linecolor": "white",
             "minorgridcolor": "white",
             "startlinecolor": "#2a3f5f"
            },
            "type": "carpet"
           }
          ],
          "choropleth": [
           {
            "colorbar": {
             "outlinewidth": 0,
             "ticks": ""
            },
            "type": "choropleth"
           }
          ],
          "contour": [
           {
            "colorbar": {
             "outlinewidth": 0,
             "ticks": ""
            },
            "colorscale": [
             [
              0,
              "#0d0887"
             ],
             [
              0.1111111111111111,
              "#46039f"
             ],
             [
              0.2222222222222222,
              "#7201a8"
             ],
             [
              0.3333333333333333,
              "#9c179e"
             ],
             [
              0.4444444444444444,
              "#bd3786"
             ],
             [
              0.5555555555555556,
              "#d8576b"
             ],
             [
              0.6666666666666666,
              "#ed7953"
             ],
             [
              0.7777777777777778,
              "#fb9f3a"
             ],
             [
              0.8888888888888888,
              "#fdca26"
             ],
             [
              1,
              "#f0f921"
             ]
            ],
            "type": "contour"
           }
          ],
          "contourcarpet": [
           {
            "colorbar": {
             "outlinewidth": 0,
             "ticks": ""
            },
            "type": "contourcarpet"
           }
          ],
          "heatmap": [
           {
            "colorbar": {
             "outlinewidth": 0,
             "ticks": ""
            },
            "colorscale": [
             [
              0,
              "#0d0887"
             ],
             [
              0.1111111111111111,
              "#46039f"
             ],
             [
              0.2222222222222222,
              "#7201a8"
             ],
             [
              0.3333333333333333,
              "#9c179e"
             ],
             [
              0.4444444444444444,
              "#bd3786"
             ],
             [
              0.5555555555555556,
              "#d8576b"
             ],
             [
              0.6666666666666666,
              "#ed7953"
             ],
             [
              0.7777777777777778,
              "#fb9f3a"
             ],
             [
              0.8888888888888888,
              "#fdca26"
             ],
             [
              1,
              "#f0f921"
             ]
            ],
            "type": "heatmap"
           }
          ],
          "heatmapgl": [
           {
            "colorbar": {
             "outlinewidth": 0,
             "ticks": ""
            },
            "colorscale": [
             [
              0,
              "#0d0887"
             ],
             [
              0.1111111111111111,
              "#46039f"
             ],
             [
              0.2222222222222222,
              "#7201a8"
             ],
             [
              0.3333333333333333,
              "#9c179e"
             ],
             [
              0.4444444444444444,
              "#bd3786"
             ],
             [
              0.5555555555555556,
              "#d8576b"
             ],
             [
              0.6666666666666666,
              "#ed7953"
             ],
             [
              0.7777777777777778,
              "#fb9f3a"
             ],
             [
              0.8888888888888888,
              "#fdca26"
             ],
             [
              1,
              "#f0f921"
             ]
            ],
            "type": "heatmapgl"
           }
          ],
          "histogram": [
           {
            "marker": {
             "pattern": {
              "fillmode": "overlay",
              "size": 10,
              "solidity": 0.2
             }
            },
            "type": "histogram"
           }
          ],
          "histogram2d": [
           {
            "colorbar": {
             "outlinewidth": 0,
             "ticks": ""
            },
            "colorscale": [
             [
              0,
              "#0d0887"
             ],
             [
              0.1111111111111111,
              "#46039f"
             ],
             [
              0.2222222222222222,
              "#7201a8"
             ],
             [
              0.3333333333333333,
              "#9c179e"
             ],
             [
              0.4444444444444444,
              "#bd3786"
             ],
             [
              0.5555555555555556,
              "#d8576b"
             ],
             [
              0.6666666666666666,
              "#ed7953"
             ],
             [
              0.7777777777777778,
              "#fb9f3a"
             ],
             [
              0.8888888888888888,
              "#fdca26"
             ],
             [
              1,
              "#f0f921"
             ]
            ],
            "type": "histogram2d"
           }
          ],
          "histogram2dcontour": [
           {
            "colorbar": {
             "outlinewidth": 0,
             "ticks": ""
            },
            "colorscale": [
             [
              0,
              "#0d0887"
             ],
             [
              0.1111111111111111,
              "#46039f"
             ],
             [
              0.2222222222222222,
              "#7201a8"
             ],
             [
              0.3333333333333333,
              "#9c179e"
             ],
             [
              0.4444444444444444,
              "#bd3786"
             ],
             [
              0.5555555555555556,
              "#d8576b"
             ],
             [
              0.6666666666666666,
              "#ed7953"
             ],
             [
              0.7777777777777778,
              "#fb9f3a"
             ],
             [
              0.8888888888888888,
              "#fdca26"
             ],
             [
              1,
              "#f0f921"
             ]
            ],
            "type": "histogram2dcontour"
           }
          ],
          "mesh3d": [
           {
            "colorbar": {
             "outlinewidth": 0,
             "ticks": ""
            },
            "type": "mesh3d"
           }
          ],
          "parcoords": [
           {
            "line": {
             "colorbar": {
              "outlinewidth": 0,
              "ticks": ""
             }
            },
            "type": "parcoords"
           }
          ],
          "pie": [
           {
            "automargin": true,
            "type": "pie"
           }
          ],
          "scatter": [
           {
            "fillpattern": {
             "fillmode": "overlay",
             "size": 10,
             "solidity": 0.2
            },
            "type": "scatter"
           }
          ],
          "scatter3d": [
           {
            "line": {
             "colorbar": {
              "outlinewidth": 0,
              "ticks": ""
             }
            },
            "marker": {
             "colorbar": {
              "outlinewidth": 0,
              "ticks": ""
             }
            },
            "type": "scatter3d"
           }
          ],
          "scattercarpet": [
           {
            "marker": {
             "colorbar": {
              "outlinewidth": 0,
              "ticks": ""
             }
            },
            "type": "scattercarpet"
           }
          ],
          "scattergeo": [
           {
            "marker": {
             "colorbar": {
              "outlinewidth": 0,
              "ticks": ""
             }
            },
            "type": "scattergeo"
           }
          ],
          "scattergl": [
           {
            "marker": {
             "colorbar": {
              "outlinewidth": 0,
              "ticks": ""
             }
            },
            "type": "scattergl"
           }
          ],
          "scattermapbox": [
           {
            "marker": {
             "colorbar": {
              "outlinewidth": 0,
              "ticks": ""
             }
            },
            "type": "scattermapbox"
           }
          ],
          "scatterpolar": [
           {
            "marker": {
             "colorbar": {
              "outlinewidth": 0,
              "ticks": ""
             }
            },
            "type": "scatterpolar"
           }
          ],
          "scatterpolargl": [
           {
            "marker": {
             "colorbar": {
              "outlinewidth": 0,
              "ticks": ""
             }
            },
            "type": "scatterpolargl"
           }
          ],
          "scatterternary": [
           {
            "marker": {
             "colorbar": {
              "outlinewidth": 0,
              "ticks": ""
             }
            },
            "type": "scatterternary"
           }
          ],
          "surface": [
           {
            "colorbar": {
             "outlinewidth": 0,
             "ticks": ""
            },
            "colorscale": [
             [
              0,
              "#0d0887"
             ],
             [
              0.1111111111111111,
              "#46039f"
             ],
             [
              0.2222222222222222,
              "#7201a8"
             ],
             [
              0.3333333333333333,
              "#9c179e"
             ],
             [
              0.4444444444444444,
              "#bd3786"
             ],
             [
              0.5555555555555556,
              "#d8576b"
             ],
             [
              0.6666666666666666,
              "#ed7953"
             ],
             [
              0.7777777777777778,
              "#fb9f3a"
             ],
             [
              0.8888888888888888,
              "#fdca26"
             ],
             [
              1,
              "#f0f921"
             ]
            ],
            "type": "surface"
           }
          ],
          "table": [
           {
            "cells": {
             "fill": {
              "color": "#EBF0F8"
             },
             "line": {
              "color": "white"
             }
            },
            "header": {
             "fill": {
              "color": "#C8D4E3"
             },
             "line": {
              "color": "white"
             }
            },
            "type": "table"
           }
          ]
         },
         "layout": {
          "annotationdefaults": {
           "arrowcolor": "#2a3f5f",
           "arrowhead": 0,
           "arrowwidth": 1
          },
          "autotypenumbers": "strict",
          "coloraxis": {
           "colorbar": {
            "outlinewidth": 0,
            "ticks": ""
           }
          },
          "colorscale": {
           "diverging": [
            [
             0,
             "#8e0152"
            ],
            [
             0.1,
             "#c51b7d"
            ],
            [
             0.2,
             "#de77ae"
            ],
            [
             0.3,
             "#f1b6da"
            ],
            [
             0.4,
             "#fde0ef"
            ],
            [
             0.5,
             "#f7f7f7"
            ],
            [
             0.6,
             "#e6f5d0"
            ],
            [
             0.7,
             "#b8e186"
            ],
            [
             0.8,
             "#7fbc41"
            ],
            [
             0.9,
             "#4d9221"
            ],
            [
             1,
             "#276419"
            ]
           ],
           "sequential": [
            [
             0,
             "#0d0887"
            ],
            [
             0.1111111111111111,
             "#46039f"
            ],
            [
             0.2222222222222222,
             "#7201a8"
            ],
            [
             0.3333333333333333,
             "#9c179e"
            ],
            [
             0.4444444444444444,
             "#bd3786"
            ],
            [
             0.5555555555555556,
             "#d8576b"
            ],
            [
             0.6666666666666666,
             "#ed7953"
            ],
            [
             0.7777777777777778,
             "#fb9f3a"
            ],
            [
             0.8888888888888888,
             "#fdca26"
            ],
            [
             1,
             "#f0f921"
            ]
           ],
           "sequentialminus": [
            [
             0,
             "#0d0887"
            ],
            [
             0.1111111111111111,
             "#46039f"
            ],
            [
             0.2222222222222222,
             "#7201a8"
            ],
            [
             0.3333333333333333,
             "#9c179e"
            ],
            [
             0.4444444444444444,
             "#bd3786"
            ],
            [
             0.5555555555555556,
             "#d8576b"
            ],
            [
             0.6666666666666666,
             "#ed7953"
            ],
            [
             0.7777777777777778,
             "#fb9f3a"
            ],
            [
             0.8888888888888888,
             "#fdca26"
            ],
            [
             1,
             "#f0f921"
            ]
           ]
          },
          "colorway": [
           "#636efa",
           "#EF553B",
           "#00cc96",
           "#ab63fa",
           "#FFA15A",
           "#19d3f3",
           "#FF6692",
           "#B6E880",
           "#FF97FF",
           "#FECB52"
          ],
          "font": {
           "color": "#2a3f5f"
          },
          "geo": {
           "bgcolor": "white",
           "lakecolor": "white",
           "landcolor": "#E5ECF6",
           "showlakes": true,
           "showland": true,
           "subunitcolor": "white"
          },
          "hoverlabel": {
           "align": "left"
          },
          "hovermode": "closest",
          "mapbox": {
           "style": "light"
          },
          "paper_bgcolor": "white",
          "plot_bgcolor": "#E5ECF6",
          "polar": {
           "angularaxis": {
            "gridcolor": "white",
            "linecolor": "white",
            "ticks": ""
           },
           "bgcolor": "#E5ECF6",
           "radialaxis": {
            "gridcolor": "white",
            "linecolor": "white",
            "ticks": ""
           }
          },
          "scene": {
           "xaxis": {
            "backgroundcolor": "#E5ECF6",
            "gridcolor": "white",
            "gridwidth": 2,
            "linecolor": "white",
            "showbackground": true,
            "ticks": "",
            "zerolinecolor": "white"
           },
           "yaxis": {
            "backgroundcolor": "#E5ECF6",
            "gridcolor": "white",
            "gridwidth": 2,
            "linecolor": "white",
            "showbackground": true,
            "ticks": "",
            "zerolinecolor": "white"
           },
           "zaxis": {
            "backgroundcolor": "#E5ECF6",
            "gridcolor": "white",
            "gridwidth": 2,
            "linecolor": "white",
            "showbackground": true,
            "ticks": "",
            "zerolinecolor": "white"
           }
          },
          "shapedefaults": {
           "line": {
            "color": "#2a3f5f"
           }
          },
          "ternary": {
           "aaxis": {
            "gridcolor": "white",
            "linecolor": "white",
            "ticks": ""
           },
           "baxis": {
            "gridcolor": "white",
            "linecolor": "white",
            "ticks": ""
           },
           "bgcolor": "#E5ECF6",
           "caxis": {
            "gridcolor": "white",
            "linecolor": "white",
            "ticks": ""
           }
          },
          "title": {
           "x": 0.05
          },
          "xaxis": {
           "automargin": true,
           "gridcolor": "white",
           "linecolor": "white",
           "ticks": "",
           "title": {
            "standoff": 15
           },
           "zerolinecolor": "white",
           "zerolinewidth": 2
          },
          "yaxis": {
           "automargin": true,
           "gridcolor": "white",
           "linecolor": "white",
           "ticks": "",
           "title": {
            "standoff": 15
           },
           "zerolinecolor": "white",
           "zerolinewidth": 2
          }
         }
        }
       }
      },
      "text/html": [
       "<div>                            <div id=\"14f51e9f-aa3e-4836-b55e-881f04591ad7\" class=\"plotly-graph-div\" style=\"height:300px; width:100%;\"></div>            <script type=\"text/javascript\">                require([\"plotly\"], function(Plotly) {                    window.PLOTLYENV=window.PLOTLYENV || {};                                    if (document.getElementById(\"14f51e9f-aa3e-4836-b55e-881f04591ad7\")) {                    Plotly.newPlot(                        \"14f51e9f-aa3e-4836-b55e-881f04591ad7\",                        [{\"hovertemplate\":\"\\u003cb\\u003e%{hovertext}\\u003c\\u002fb\\u003e\\u003cbr\\u003e\\u003cbr\\u003eLATITUDE=%{lat}\\u003cbr\\u003eLONGITUDE=%{lon}\\u003cbr\\u003eYearly Increase=%{marker.color}\\u003cextra\\u003e\\u003c\\u002fextra\\u003e\",\"hovertext\":[\"AGARTALA\",\"AHMADABAD\",\"AKOLA\",\"AKOLA\",\"ALLAHABAD\",\"ALLAHABAD_BAMHRAULI\",\"AMRITSAR\",\"AURANGABAD_CHIKALTH\",\"BALASORE\",\"BANGALORE\",\"BAREILLY\",\"BEGUMPETOBSY\",\"BELGAUM_SAMBRA\",\"BHOPAL_BAIRAGARH\",\"BHUBANESWAR\",\"BHUJ_RUDRAMATA\",\"BIKANER\",\"BOMBAY_COLABA\",\"BOMBAY_SANTACRUZ\",\"CALCUTTA_ALIPORE\",\"CALCUTTA_DUM_DUM\",\"CHERRAPUNJI\",\"CHERRA_POONJEE\",\"CHITRADURGA\",\"COIMBATORE_PEELAMED\",\"CUDDALORE\",\"DALTONGANJ\",\"DEHRADUN\",\"DIBRUGARH_MOHANBAR\",\"DUMKA\",\"DWARKA\",\"GADAG\",\"GANGANAGAR\",\"GAUHATI\",\"GAYA\",\"GOA_PANJIM\",\"GORAKHPUR\",\"GUNA\",\"GWALIOR\",\"HISSAR\",\"HONAVAR\",\"IMPHAL\",\"INDORE\",\"JABALPUR\",\"JAGDALPUR\",\"JAIPUR_SANGANER\",\"JAISALMER\",\"JHARSUGUDA\",\"JODHPUR\",\"KAKINADA\",\"KARAIKAL\",\"KODAIKANAL\",\"KOTA_AERODROME\",\"KOZHIKODE\",\"KURNOOL\",\"LUCKNOW_AMAUSI\",\"LUDHIANA\",\"MACHILIPATNAM\",\"MADRAS_MINAMBAKKAM\",\"MANGALORE_BAJPE\",\"MINICOY\",\"MINICOYOBSY\",\"MO_AMINI\",\"MO_RANCHI\",\"MUKTESWAR_KUMAON\",\"NAGPUR_SONEGAON\",\"NELLORE\",\"NEW_DELHI_PALAM\",\"NEW_DELHI_SAFDARJUN\",\"NORTH_LAKHIMPUR\",\"PAMBAN\",\"PATIALA\",\"PATNA\",\"PBO_ANANTAPUR\",\"PENDRA_ROAD\",\"POONA\",\"PORT_BLAIR\",\"RAIPUR\",\"RAJKOT\",\"RAMGUNDAM\",\"RATNAGIRI\",\"SAGAR\",\"SANDHEADS\",\"SATNA\",\"SHILONG\",\"SHIMLA\",\"SHOLAPUR\",\"SILCHAR\",\"SRINAGAR\",\"SURAT\",\"TEZPUR\",\"THIRUVANANTHAPURAM\",\"THIRUVANANTHAPURAM\",\"TIRUCHCHIRAPALLI\",\"TRIVANDRUM\",\"UDAIPUR_DABOK\",\"VARANASI_BABATPUR\",\"VERAVAL\",\"VISHAKHAPATNAM\"],\"lat\":[23.883,23.067,20.7,20.7,25.441,25.5,31.71,19.85,21.517,12.967,28.367,17.45,15.85,23.283,20.25,23.25,28.0,18.9,19.117,22.533,22.65,25.25,25.25,14.233,11.033,11.767,24.05,30.317,27.483,24.267,22.3667,15.417,29.917,26.1,24.75,15.483,26.75,24.65,26.233,29.167,14.283,24.667,22.717,23.2,19.083,26.817,26.9,21.917,26.3,16.95,10.917,10.2333,25.15,11.25,15.8,26.75,30.9333,16.2,13.0,12.917,8.3,8.3,11.117,23.317,29.4667,21.1,14.45,28.567,28.583,27.233,9.267,30.333,25.6,14.583,22.767,18.533,11.667,21.217,22.3,18.767,16.983,23.85,20.85,24.567,25.6,31.1,17.667,24.82,34.083,21.2,26.617,8.467,8.483,10.767,8.5,24.617,25.45,20.9,17.717],\"legendgroup\":\"\",\"lon\":[91.25,72.633,77.033,77.067,81.735,81.9,74.797,75.4,86.933,77.583,79.4,78.47,74.617,77.35,85.833,69.667,73.3,72.8167,72.85,88.333,88.45,91.7333,91.73,76.433,77.05,79.767,84.067,78.033,95.017,87.25,69.0833,75.633,73.917,91.583,84.95,73.817,83.367,77.317,78.25,75.733,74.45,93.9,75.8,79.95,82.033,75.8,70.917,84.083,73.017,82.233,79.833,77.4667,75.85,75.783,78.067,80.883,75.8667,81.15,80.183,74.883,73.15,73.0,72.733,85.317,79.65,79.05,79.983,77.117,77.2,94.117,79.3,76.467,85.1,77.633,81.9,73.85,92.717,81.667,70.783,79.433,73.333,78.75,88.25,80.833,91.89,77.167,75.9,92.83,74.833,72.833,92.783,76.95,76.95,78.717,77.0,73.883,82.867,70.367,83.233],\"marker\":{\"color\":[-0.006183811129848238,0.0067308597025915766,-0.0017758837772397095,-0.005939334120591499,-0.029375055494716883,-0.01545666555613727,-0.00699792531120331,0.012432445591314102,-0.00853532162264629,0.0360485735708181,-0.01692167188537811,0.010659470125093384,-0.0035940766550522575,-0.022141209450285828,-0.016133488420135563,0.06992104800808187,0.01718013781034673,0.011445804713175408,0.03473019082522431,-0.010346634984974477,-0.0161829268292683,0.04650531543205272,-0.02196969696969708,0.015587015613548466,0.03437011427849288,0.02080581199666612,-0.004619796704508838,0.04361124694376528,0.051959662288930585,-0.0820879120879119,0.016960521326348618,0.008918216844784598,-0.007582417582417614,0.014095447695660174,-0.01813076923076922,0.022398954703832772,0.0039398484370066185,-0.009171504550732236,-0.018395355327177645,-0.0033838255106870938,-0.0491733006736069,0.06331277990523787,0.003005167859002305,-0.025226394467890417,-0.0001382889963445708,0.006747873199496707,0.002615235927732999,-0.018483861496963124,0.00967608910193149,0.02601663112816565,0.021293478260869626,0.06909090909090908,-0.018580394821543535,0.03339100605670795,0.025653099244929176,-0.03722626774847871,0.13179063360881538,0.01226704591942323,0.02374484590118107,0.02328917118539812,0.025210476706174916,0.014113772841738221,-0.006249999999999854,0.005267073384831474,0.01548473928233975,-0.02462120461695937,0.02346685125913133,0.005587703435804699,-0.002409407665505227,0.09547548433389141,0.024844173744931843,-0.011647126557102462,-0.02185513438609661,0.026258125009932767,-0.009553449032801422,-0.0004445988190343688,0.030734217877094964,0.001427210836361089,0.015685536018150894,-0.00888194853663324,0.003240895098029199,0.0015395460312984538,-0.052447665056360726,-0.022613636363636384,0.013454496208017324,0.004006465200568158,0.0037817395036120536,0.016082518381040727,0.04876296814627764,0.023199215429258024,0.03942452222460808,0.008583554116377186,0.02058426411063232,0.014605567154412205,0.022892088111541916,0.07242424242424236,-0.012996067688773032,0.024848432055749124,-0.03404972919743972],\"coloraxis\":\"coloraxis\"},\"mode\":\"markers\",\"name\":\"\",\"showlegend\":false,\"subplot\":\"mapbox\",\"type\":\"scattermapbox\"}],                        {\"template\":{\"data\":{\"histogram2dcontour\":[{\"type\":\"histogram2dcontour\",\"colorbar\":{\"outlinewidth\":0,\"ticks\":\"\"},\"colorscale\":[[0.0,\"#0d0887\"],[0.1111111111111111,\"#46039f\"],[0.2222222222222222,\"#7201a8\"],[0.3333333333333333,\"#9c179e\"],[0.4444444444444444,\"#bd3786\"],[0.5555555555555556,\"#d8576b\"],[0.6666666666666666,\"#ed7953\"],[0.7777777777777778,\"#fb9f3a\"],[0.8888888888888888,\"#fdca26\"],[1.0,\"#f0f921\"]]}],\"choropleth\":[{\"type\":\"choropleth\",\"colorbar\":{\"outlinewidth\":0,\"ticks\":\"\"}}],\"histogram2d\":[{\"type\":\"histogram2d\",\"colorbar\":{\"outlinewidth\":0,\"ticks\":\"\"},\"colorscale\":[[0.0,\"#0d0887\"],[0.1111111111111111,\"#46039f\"],[0.2222222222222222,\"#7201a8\"],[0.3333333333333333,\"#9c179e\"],[0.4444444444444444,\"#bd3786\"],[0.5555555555555556,\"#d8576b\"],[0.6666666666666666,\"#ed7953\"],[0.7777777777777778,\"#fb9f3a\"],[0.8888888888888888,\"#fdca26\"],[1.0,\"#f0f921\"]]}],\"heatmap\":[{\"type\":\"heatmap\",\"colorbar\":{\"outlinewidth\":0,\"ticks\":\"\"},\"colorscale\":[[0.0,\"#0d0887\"],[0.1111111111111111,\"#46039f\"],[0.2222222222222222,\"#7201a8\"],[0.3333333333333333,\"#9c179e\"],[0.4444444444444444,\"#bd3786\"],[0.5555555555555556,\"#d8576b\"],[0.6666666666666666,\"#ed7953\"],[0.7777777777777778,\"#fb9f3a\"],[0.8888888888888888,\"#fdca26\"],[1.0,\"#f0f921\"]]}],\"heatmapgl\":[{\"type\":\"heatmapgl\",\"colorbar\":{\"outlinewidth\":0,\"ticks\":\"\"},\"colorscale\":[[0.0,\"#0d0887\"],[0.1111111111111111,\"#46039f\"],[0.2222222222222222,\"#7201a8\"],[0.3333333333333333,\"#9c179e\"],[0.4444444444444444,\"#bd3786\"],[0.5555555555555556,\"#d8576b\"],[0.6666666666666666,\"#ed7953\"],[0.7777777777777778,\"#fb9f3a\"],[0.8888888888888888,\"#fdca26\"],[1.0,\"#f0f921\"]]}],\"contourcarpet\":[{\"type\":\"contourcarpet\",\"colorbar\":{\"outlinewidth\":0,\"ticks\":\"\"}}],\"contour\":[{\"type\":\"contour\",\"colorbar\":{\"outlinewidth\":0,\"ticks\":\"\"},\"colorscale\":[[0.0,\"#0d0887\"],[0.1111111111111111,\"#46039f\"],[0.2222222222222222,\"#7201a8\"],[0.3333333333333333,\"#9c179e\"],[0.4444444444444444,\"#bd3786\"],[0.5555555555555556,\"#d8576b\"],[0.6666666666666666,\"#ed7953\"],[0.7777777777777778,\"#fb9f3a\"],[0.8888888888888888,\"#fdca26\"],[1.0,\"#f0f921\"]]}],\"surface\":[{\"type\":\"surface\",\"colorbar\":{\"outlinewidth\":0,\"ticks\":\"\"},\"colorscale\":[[0.0,\"#0d0887\"],[0.1111111111111111,\"#46039f\"],[0.2222222222222222,\"#7201a8\"],[0.3333333333333333,\"#9c179e\"],[0.4444444444444444,\"#bd3786\"],[0.5555555555555556,\"#d8576b\"],[0.6666666666666666,\"#ed7953\"],[0.7777777777777778,\"#fb9f3a\"],[0.8888888888888888,\"#fdca26\"],[1.0,\"#f0f921\"]]}],\"mesh3d\":[{\"type\":\"mesh3d\",\"colorbar\":{\"outlinewidth\":0,\"ticks\":\"\"}}],\"scatter\":[{\"fillpattern\":{\"fillmode\":\"overlay\",\"size\":10,\"solidity\":0.2},\"type\":\"scatter\"}],\"parcoords\":[{\"type\":\"parcoords\",\"line\":{\"colorbar\":{\"outlinewidth\":0,\"ticks\":\"\"}}}],\"scatterpolargl\":[{\"type\":\"scatterpolargl\",\"marker\":{\"colorbar\":{\"outlinewidth\":0,\"ticks\":\"\"}}}],\"bar\":[{\"error_x\":{\"color\":\"#2a3f5f\"},\"error_y\":{\"color\":\"#2a3f5f\"},\"marker\":{\"line\":{\"color\":\"#E5ECF6\",\"width\":0.5},\"pattern\":{\"fillmode\":\"overlay\",\"size\":10,\"solidity\":0.2}},\"type\":\"bar\"}],\"scattergeo\":[{\"type\":\"scattergeo\",\"marker\":{\"colorbar\":{\"outlinewidth\":0,\"ticks\":\"\"}}}],\"scatterpolar\":[{\"type\":\"scatterpolar\",\"marker\":{\"colorbar\":{\"outlinewidth\":0,\"ticks\":\"\"}}}],\"histogram\":[{\"marker\":{\"pattern\":{\"fillmode\":\"overlay\",\"size\":10,\"solidity\":0.2}},\"type\":\"histogram\"}],\"scattergl\":[{\"type\":\"scattergl\",\"marker\":{\"colorbar\":{\"outlinewidth\":0,\"ticks\":\"\"}}}],\"scatter3d\":[{\"type\":\"scatter3d\",\"line\":{\"colorbar\":{\"outlinewidth\":0,\"ticks\":\"\"}},\"marker\":{\"colorbar\":{\"outlinewidth\":0,\"ticks\":\"\"}}}],\"scattermapbox\":[{\"type\":\"scattermapbox\",\"marker\":{\"colorbar\":{\"outlinewidth\":0,\"ticks\":\"\"}}}],\"scatterternary\":[{\"type\":\"scatterternary\",\"marker\":{\"colorbar\":{\"outlinewidth\":0,\"ticks\":\"\"}}}],\"scattercarpet\":[{\"type\":\"scattercarpet\",\"marker\":{\"colorbar\":{\"outlinewidth\":0,\"ticks\":\"\"}}}],\"carpet\":[{\"aaxis\":{\"endlinecolor\":\"#2a3f5f\",\"gridcolor\":\"white\",\"linecolor\":\"white\",\"minorgridcolor\":\"white\",\"startlinecolor\":\"#2a3f5f\"},\"baxis\":{\"endlinecolor\":\"#2a3f5f\",\"gridcolor\":\"white\",\"linecolor\":\"white\",\"minorgridcolor\":\"white\",\"startlinecolor\":\"#2a3f5f\"},\"type\":\"carpet\"}],\"table\":[{\"cells\":{\"fill\":{\"color\":\"#EBF0F8\"},\"line\":{\"color\":\"white\"}},\"header\":{\"fill\":{\"color\":\"#C8D4E3\"},\"line\":{\"color\":\"white\"}},\"type\":\"table\"}],\"barpolar\":[{\"marker\":{\"line\":{\"color\":\"#E5ECF6\",\"width\":0.5},\"pattern\":{\"fillmode\":\"overlay\",\"size\":10,\"solidity\":0.2}},\"type\":\"barpolar\"}],\"pie\":[{\"automargin\":true,\"type\":\"pie\"}]},\"layout\":{\"autotypenumbers\":\"strict\",\"colorway\":[\"#636efa\",\"#EF553B\",\"#00cc96\",\"#ab63fa\",\"#FFA15A\",\"#19d3f3\",\"#FF6692\",\"#B6E880\",\"#FF97FF\",\"#FECB52\"],\"font\":{\"color\":\"#2a3f5f\"},\"hovermode\":\"closest\",\"hoverlabel\":{\"align\":\"left\"},\"paper_bgcolor\":\"white\",\"plot_bgcolor\":\"#E5ECF6\",\"polar\":{\"bgcolor\":\"#E5ECF6\",\"angularaxis\":{\"gridcolor\":\"white\",\"linecolor\":\"white\",\"ticks\":\"\"},\"radialaxis\":{\"gridcolor\":\"white\",\"linecolor\":\"white\",\"ticks\":\"\"}},\"ternary\":{\"bgcolor\":\"#E5ECF6\",\"aaxis\":{\"gridcolor\":\"white\",\"linecolor\":\"white\",\"ticks\":\"\"},\"baxis\":{\"gridcolor\":\"white\",\"linecolor\":\"white\",\"ticks\":\"\"},\"caxis\":{\"gridcolor\":\"white\",\"linecolor\":\"white\",\"ticks\":\"\"}},\"coloraxis\":{\"colorbar\":{\"outlinewidth\":0,\"ticks\":\"\"}},\"colorscale\":{\"sequential\":[[0.0,\"#0d0887\"],[0.1111111111111111,\"#46039f\"],[0.2222222222222222,\"#7201a8\"],[0.3333333333333333,\"#9c179e\"],[0.4444444444444444,\"#bd3786\"],[0.5555555555555556,\"#d8576b\"],[0.6666666666666666,\"#ed7953\"],[0.7777777777777778,\"#fb9f3a\"],[0.8888888888888888,\"#fdca26\"],[1.0,\"#f0f921\"]],\"sequentialminus\":[[0.0,\"#0d0887\"],[0.1111111111111111,\"#46039f\"],[0.2222222222222222,\"#7201a8\"],[0.3333333333333333,\"#9c179e\"],[0.4444444444444444,\"#bd3786\"],[0.5555555555555556,\"#d8576b\"],[0.6666666666666666,\"#ed7953\"],[0.7777777777777778,\"#fb9f3a\"],[0.8888888888888888,\"#fdca26\"],[1.0,\"#f0f921\"]],\"diverging\":[[0,\"#8e0152\"],[0.1,\"#c51b7d\"],[0.2,\"#de77ae\"],[0.3,\"#f1b6da\"],[0.4,\"#fde0ef\"],[0.5,\"#f7f7f7\"],[0.6,\"#e6f5d0\"],[0.7,\"#b8e186\"],[0.8,\"#7fbc41\"],[0.9,\"#4d9221\"],[1,\"#276419\"]]},\"xaxis\":{\"gridcolor\":\"white\",\"linecolor\":\"white\",\"ticks\":\"\",\"title\":{\"standoff\":15},\"zerolinecolor\":\"white\",\"automargin\":true,\"zerolinewidth\":2},\"yaxis\":{\"gridcolor\":\"white\",\"linecolor\":\"white\",\"ticks\":\"\",\"title\":{\"standoff\":15},\"zerolinecolor\":\"white\",\"automargin\":true,\"zerolinewidth\":2},\"scene\":{\"xaxis\":{\"backgroundcolor\":\"#E5ECF6\",\"gridcolor\":\"white\",\"linecolor\":\"white\",\"showbackground\":true,\"ticks\":\"\",\"zerolinecolor\":\"white\",\"gridwidth\":2},\"yaxis\":{\"backgroundcolor\":\"#E5ECF6\",\"gridcolor\":\"white\",\"linecolor\":\"white\",\"showbackground\":true,\"ticks\":\"\",\"zerolinecolor\":\"white\",\"gridwidth\":2},\"zaxis\":{\"backgroundcolor\":\"#E5ECF6\",\"gridcolor\":\"white\",\"linecolor\":\"white\",\"showbackground\":true,\"ticks\":\"\",\"zerolinecolor\":\"white\",\"gridwidth\":2}},\"shapedefaults\":{\"line\":{\"color\":\"#2a3f5f\"}},\"annotationdefaults\":{\"arrowcolor\":\"#2a3f5f\",\"arrowhead\":0,\"arrowwidth\":1},\"geo\":{\"bgcolor\":\"white\",\"landcolor\":\"#E5ECF6\",\"subunitcolor\":\"white\",\"showland\":true,\"showlakes\":true,\"lakecolor\":\"white\"},\"title\":{\"x\":0.05},\"mapbox\":{\"style\":\"light\"}}},\"mapbox\":{\"domain\":{\"x\":[0.0,1.0],\"y\":[0.0,1.0]},\"center\":{\"lat\":21.042010101010103,\"lon\":79.63467373737375},\"zoom\":2,\"style\":\"carto-positron\"},\"coloraxis\":{\"colorbar\":{\"title\":{\"text\":\"Yearly Increase\"}},\"colorscale\":[[0.0,\"rgb(26,26,26)\"],[0.1,\"rgb(77,77,77)\"],[0.2,\"rgb(135,135,135)\"],[0.3,\"rgb(186,186,186)\"],[0.4,\"rgb(224,224,224)\"],[0.5,\"rgb(255,255,255)\"],[0.6,\"rgb(253,219,199)\"],[0.7,\"rgb(244,165,130)\"],[0.8,\"rgb(214,96,77)\"],[0.9,\"rgb(178,24,43)\"],[1.0,\"rgb(103,0,31)\"]]},\"legend\":{\"tracegroupgap\":0},\"margin\":{\"t\":0,\"r\":0,\"l\":0,\"b\":0},\"height\":300},                        {\"responsive\": true}                    ).then(function(){\n",
       "                            \n",
       "var gd = document.getElementById('14f51e9f-aa3e-4836-b55e-881f04591ad7');\n",
       "var x = new MutationObserver(function (mutations, observer) {{\n",
       "        var display = window.getComputedStyle(gd).display;\n",
       "        if (!display || display === 'none') {{\n",
       "            console.log([gd, 'removed!']);\n",
       "            Plotly.purge(gd);\n",
       "            observer.disconnect();\n",
       "        }}\n",
       "}});\n",
       "\n",
       "// Listen for the removal of the full notebook cells\n",
       "var notebookContainer = gd.closest('#notebook-container');\n",
       "if (notebookContainer) {{\n",
       "    x.observe(notebookContainer, {childList: true});\n",
       "}}\n",
       "\n",
       "// Listen for the clearing of the current output cell\n",
       "var outputEl = gd.closest('.output');\n",
       "if (outputEl) {{\n",
       "    x.observe(outputEl, {childList: true});\n",
       "}}\n",
       "\n",
       "                        })                };                });            </script>        </div>"
      ]
     },
     "metadata": {},
     "output_type": "display_data"
    }
   ],
   "source": [
    "color_map = px.colors.diverging.RdGy_r # choose a colormap\n",
    "\n",
    "fig = temperature_coefficient_plot(\"temps.db\", \"India\", 1980, 2020, 1, \n",
    "                                   min_obs = 10,\n",
    "                                   zoom = 2,\n",
    "                                   mapbox_style=\"carto-positron\",\n",
    "                                   color_continuous_scale=color_map)\n",
    "\n",
    "fig.show()"
   ]
  },
  {
   "cell_type": "code",
   "execution_count": 50,
   "id": "217d890b",
   "metadata": {},
   "outputs": [
    {
     "ename": "NameError",
     "evalue": "name 'la_climate_database' is not defined",
     "output_type": "error",
     "traceback": [
      "\u001b[0;31m---------------------------------------------------------------------------\u001b[0m",
      "\u001b[0;31mNameError\u001b[0m                                 Traceback (most recent call last)",
      "Cell \u001b[0;32mIn[50], line 5\u001b[0m\n\u001b[1;32m      1\u001b[0m \u001b[38;5;66;03m# Part 4\u001b[39;00m\n\u001b[1;32m      2\u001b[0m \u001b[38;5;66;03m## Create at least one more SQL query function in climate_database.py\u001b[39;00m\n\u001b[1;32m      3\u001b[0m \u001b[38;5;66;03m## at least two more complex and interesting interactive data visualizations using the same data\u001b[39;00m\n\u001b[1;32m      4\u001b[0m \u001b[38;5;66;03m## plots must be of different types (line and bar, scatter and histogram)\u001b[39;00m\n\u001b[0;32m----> 5\u001b[0m \u001b[43mla_climate_database\u001b[49m(\u001b[38;5;124m\"\u001b[39m\u001b[38;5;124mtemps.db\u001b[39m\u001b[38;5;124m\"\u001b[39m, month \u001b[38;5;241m=\u001b[39m \u001b[38;5;241m1\u001b[39m)\n",
      "\u001b[0;31mNameError\u001b[0m: name 'la_climate_database' is not defined"
     ]
    }
   ],
   "source": [
    "# Part 4\n",
    "## Create at least one more SQL query function in climate_database.py\n",
    "## at least two more complex and interesting interactive data visualizations using the same data\n",
    "## plots must be of different types (line and bar, scatter and histogram)\n",
    "la_climate_database(\"temps.db\", month = 1)"
   ]
  },
  {
   "cell_type": "code",
   "execution_count": 7,
   "id": "c6efb227",
   "metadata": {},
   "outputs": [],
   "source": [
    "from climate_database import la_climate_database\n",
    "import inspect"
   ]
  },
  {
   "cell_type": "code",
   "execution_count": 9,
   "id": "b029c0fc",
   "metadata": {},
   "outputs": [],
   "source": [
    "la = la_climate_database(\"temps.db\", month=1)"
   ]
  },
  {
   "cell_type": "code",
   "execution_count": 23,
   "id": "d76b2030",
   "metadata": {},
   "outputs": [],
   "source": [
    "def station_temp_plot(db_file, month, **kwargs) :\n",
    "    with sqlite3.connect(db_file) as conn:\n",
    "    # conn is automatically closed when this block ends\n",
    "        cmd = \\\n",
    "        f\"\"\"\n",
    "        SELECT S.NAME, S.LATITUDE, S.LONGITUDE, C.Name \"Country\", T.Year, T.Month, T.Temp\n",
    "        FROM temperatures T\n",
    "        LEFT JOIN stations S ON T.id = S.id\n",
    "        LEFT JOIN countries C on substring(T.id,1,2) = C.'FIPS 10-4'  \n",
    "        WHERE \n",
    "        T.month = {month}\n",
    "        AND \n",
    "        S.LATITUDE BETWEEN 33.951717 AND 34.153109\n",
    "        AND \n",
    "        S.LONGITUDE BETWEEN -118.492815 AND -118.167345\n",
    "        \"\"\"\n",
    "    df = pd.read_sql_query(cmd, conn)\n",
    "    \n",
    "    fig = px.box(df,\n",
    "             x = \"NAME\",\n",
    "             y = \"Temp\",\n",
    "             width = 600,\n",
    "             height = 300,\n",
    "            **kwargs)\n",
    "\n",
    "    # reduce whitespace\n",
    "    fig.update_layout(margin={\"r\":0,\"t\":0,\"l\":0,\"b\":0})"
   ]
  },
  {
   "cell_type": "code",
   "execution_count": 24,
   "id": "756148ac",
   "metadata": {},
   "outputs": [
    {
     "data": {
      "application/vnd.plotly.v1+json": {
       "config": {
        "plotlyServerURL": "https://plot.ly"
       },
       "data": [
        {
         "hovertemplate": "<b>%{hovertext}</b><br><br>LATITUDE=%{lat}<br>LONGITUDE=%{lon}<br>Yearly Increase=%{marker.color}<extra></extra>",
         "hovertext": [
          "AGARTALA",
          "AHMADABAD",
          "AKOLA",
          "AKOLA",
          "ALLAHABAD",
          "ALLAHABAD_BAMHRAULI",
          "AMRITSAR",
          "AURANGABAD_CHIKALTH",
          "BALASORE",
          "BANGALORE",
          "BAREILLY",
          "BEGUMPETOBSY",
          "BELGAUM_SAMBRA",
          "BHOPAL_BAIRAGARH",
          "BHUBANESWAR",
          "BHUJ_RUDRAMATA",
          "BIKANER",
          "BOMBAY_COLABA",
          "BOMBAY_SANTACRUZ",
          "CALCUTTA_ALIPORE",
          "CALCUTTA_DUM_DUM",
          "CHERRAPUNJI",
          "CHERRA_POONJEE",
          "CHITRADURGA",
          "COIMBATORE_PEELAMED",
          "CUDDALORE",
          "DALTONGANJ",
          "DEHRADUN",
          "DIBRUGARH_MOHANBAR",
          "DUMKA",
          "DWARKA",
          "GADAG",
          "GANGANAGAR",
          "GAUHATI",
          "GAYA",
          "GOA_PANJIM",
          "GORAKHPUR",
          "GUNA",
          "GWALIOR",
          "HISSAR",
          "HONAVAR",
          "IMPHAL",
          "INDORE",
          "JABALPUR",
          "JAGDALPUR",
          "JAIPUR_SANGANER",
          "JAISALMER",
          "JHARSUGUDA",
          "JODHPUR",
          "KAKINADA",
          "KARAIKAL",
          "KODAIKANAL",
          "KOTA_AERODROME",
          "KOZHIKODE",
          "KURNOOL",
          "LUCKNOW_AMAUSI",
          "LUDHIANA",
          "MACHILIPATNAM",
          "MADRAS_MINAMBAKKAM",
          "MANGALORE_BAJPE",
          "MINICOY",
          "MINICOYOBSY",
          "MO_AMINI",
          "MO_RANCHI",
          "MUKTESWAR_KUMAON",
          "NAGPUR_SONEGAON",
          "NELLORE",
          "NEW_DELHI_PALAM",
          "NEW_DELHI_SAFDARJUN",
          "NORTH_LAKHIMPUR",
          "PAMBAN",
          "PATIALA",
          "PATNA",
          "PBO_ANANTAPUR",
          "PENDRA_ROAD",
          "POONA",
          "PORT_BLAIR",
          "RAIPUR",
          "RAJKOT",
          "RAMGUNDAM",
          "RATNAGIRI",
          "SAGAR",
          "SANDHEADS",
          "SATNA",
          "SHILONG",
          "SHIMLA",
          "SHOLAPUR",
          "SILCHAR",
          "SRINAGAR",
          "SURAT",
          "TEZPUR",
          "THIRUVANANTHAPURAM",
          "THIRUVANANTHAPURAM",
          "TIRUCHCHIRAPALLI",
          "TRIVANDRUM",
          "UDAIPUR_DABOK",
          "VARANASI_BABATPUR",
          "VERAVAL",
          "VISHAKHAPATNAM"
         ],
         "lat": [
          23.883,
          23.067,
          20.7,
          20.7,
          25.441,
          25.5,
          31.71,
          19.85,
          21.517,
          12.967,
          28.367,
          17.45,
          15.85,
          23.283,
          20.25,
          23.25,
          28,
          18.9,
          19.117,
          22.533,
          22.65,
          25.25,
          25.25,
          14.233,
          11.033,
          11.767,
          24.05,
          30.317,
          27.483,
          24.267,
          22.3667,
          15.417,
          29.917,
          26.1,
          24.75,
          15.483,
          26.75,
          24.65,
          26.233,
          29.167,
          14.283,
          24.667,
          22.717,
          23.2,
          19.083,
          26.817,
          26.9,
          21.917,
          26.3,
          16.95,
          10.917,
          10.2333,
          25.15,
          11.25,
          15.8,
          26.75,
          30.9333,
          16.2,
          13,
          12.917,
          8.3,
          8.3,
          11.117,
          23.317,
          29.4667,
          21.1,
          14.45,
          28.567,
          28.583,
          27.233,
          9.267,
          30.333,
          25.6,
          14.583,
          22.767,
          18.533,
          11.667,
          21.217,
          22.3,
          18.767,
          16.983,
          23.85,
          20.85,
          24.567,
          25.6,
          31.1,
          17.667,
          24.82,
          34.083,
          21.2,
          26.617,
          8.467,
          8.483,
          10.767,
          8.5,
          24.617,
          25.45,
          20.9,
          17.717
         ],
         "legendgroup": "",
         "lon": [
          91.25,
          72.633,
          77.033,
          77.067,
          81.735,
          81.9,
          74.797,
          75.4,
          86.933,
          77.583,
          79.4,
          78.47,
          74.617,
          77.35,
          85.833,
          69.667,
          73.3,
          72.8167,
          72.85,
          88.333,
          88.45,
          91.7333,
          91.73,
          76.433,
          77.05,
          79.767,
          84.067,
          78.033,
          95.017,
          87.25,
          69.0833,
          75.633,
          73.917,
          91.583,
          84.95,
          73.817,
          83.367,
          77.317,
          78.25,
          75.733,
          74.45,
          93.9,
          75.8,
          79.95,
          82.033,
          75.8,
          70.917,
          84.083,
          73.017,
          82.233,
          79.833,
          77.4667,
          75.85,
          75.783,
          78.067,
          80.883,
          75.8667,
          81.15,
          80.183,
          74.883,
          73.15,
          73,
          72.733,
          85.317,
          79.65,
          79.05,
          79.983,
          77.117,
          77.2,
          94.117,
          79.3,
          76.467,
          85.1,
          77.633,
          81.9,
          73.85,
          92.717,
          81.667,
          70.783,
          79.433,
          73.333,
          78.75,
          88.25,
          80.833,
          91.89,
          77.167,
          75.9,
          92.83,
          74.833,
          72.833,
          92.783,
          76.95,
          76.95,
          78.717,
          77,
          73.883,
          82.867,
          70.367,
          83.233
         ],
         "marker": {
          "color": [
           -0.006183811129848238,
           0.0067308597025915766,
           -0.0017758837772397095,
           -0.005939334120591499,
           -0.029375055494716883,
           -0.01545666555613727,
           -0.00699792531120331,
           0.012432445591314102,
           -0.00853532162264629,
           0.0360485735708181,
           -0.01692167188537811,
           0.010659470125093384,
           -0.0035940766550522575,
           -0.022141209450285828,
           -0.016133488420135563,
           0.06992104800808187,
           0.01718013781034673,
           0.011445804713175408,
           0.03473019082522431,
           -0.010346634984974477,
           -0.0161829268292683,
           0.04650531543205272,
           -0.02196969696969708,
           0.015587015613548466,
           0.03437011427849288,
           0.02080581199666612,
           -0.004619796704508838,
           0.04361124694376528,
           0.051959662288930585,
           -0.0820879120879119,
           0.016960521326348618,
           0.008918216844784598,
           -0.007582417582417614,
           0.014095447695660174,
           -0.01813076923076922,
           0.022398954703832772,
           0.0039398484370066185,
           -0.009171504550732236,
           -0.018395355327177645,
           -0.0033838255106870938,
           -0.0491733006736069,
           0.06331277990523787,
           0.003005167859002305,
           -0.025226394467890417,
           -0.0001382889963445708,
           0.006747873199496707,
           0.002615235927732999,
           -0.018483861496963124,
           0.00967608910193149,
           0.02601663112816565,
           0.021293478260869626,
           0.06909090909090908,
           -0.018580394821543535,
           0.03339100605670795,
           0.025653099244929176,
           -0.03722626774847871,
           0.13179063360881538,
           0.01226704591942323,
           0.02374484590118107,
           0.02328917118539812,
           0.025210476706174916,
           0.014113772841738221,
           -0.006249999999999854,
           0.005267073384831474,
           0.01548473928233975,
           -0.02462120461695937,
           0.02346685125913133,
           0.005587703435804699,
           -0.002409407665505227,
           0.09547548433389141,
           0.024844173744931843,
           -0.011647126557102462,
           -0.02185513438609661,
           0.026258125009932767,
           -0.009553449032801422,
           -0.0004445988190343688,
           0.030734217877094964,
           0.001427210836361089,
           0.015685536018150894,
           -0.00888194853663324,
           0.003240895098029199,
           0.0015395460312984538,
           -0.052447665056360726,
           -0.022613636363636384,
           0.013454496208017324,
           0.004006465200568158,
           0.0037817395036120536,
           0.016082518381040727,
           0.04876296814627764,
           0.023199215429258024,
           0.03942452222460808,
           0.008583554116377186,
           0.02058426411063232,
           0.014605567154412205,
           0.022892088111541916,
           0.07242424242424236,
           -0.012996067688773032,
           0.024848432055749124,
           -0.03404972919743972
          ],
          "coloraxis": "coloraxis"
         },
         "mode": "markers",
         "name": "",
         "showlegend": false,
         "subplot": "mapbox",
         "type": "scattermapbox"
        }
       ],
       "layout": {
        "coloraxis": {
         "colorbar": {
          "title": {
           "text": "Yearly Increase"
          }
         },
         "colorscale": [
          [
           0,
           "rgb(26,26,26)"
          ],
          [
           0.1,
           "rgb(77,77,77)"
          ],
          [
           0.2,
           "rgb(135,135,135)"
          ],
          [
           0.3,
           "rgb(186,186,186)"
          ],
          [
           0.4,
           "rgb(224,224,224)"
          ],
          [
           0.5,
           "rgb(255,255,255)"
          ],
          [
           0.6,
           "rgb(253,219,199)"
          ],
          [
           0.7,
           "rgb(244,165,130)"
          ],
          [
           0.8,
           "rgb(214,96,77)"
          ],
          [
           0.9,
           "rgb(178,24,43)"
          ],
          [
           1,
           "rgb(103,0,31)"
          ]
         ]
        },
        "height": 300,
        "legend": {
         "tracegroupgap": 0
        },
        "mapbox": {
         "center": {
          "lat": 21.042010101010103,
          "lon": 79.63467373737375
         },
         "domain": {
          "x": [
           0,
           1
          ],
          "y": [
           0,
           1
          ]
         },
         "style": "carto-positron",
         "zoom": 2
        },
        "margin": {
         "b": 0,
         "l": 0,
         "r": 0,
         "t": 0
        },
        "template": {
         "data": {
          "bar": [
           {
            "error_x": {
             "color": "#2a3f5f"
            },
            "error_y": {
             "color": "#2a3f5f"
            },
            "marker": {
             "line": {
              "color": "#E5ECF6",
              "width": 0.5
             },
             "pattern": {
              "fillmode": "overlay",
              "size": 10,
              "solidity": 0.2
             }
            },
            "type": "bar"
           }
          ],
          "barpolar": [
           {
            "marker": {
             "line": {
              "color": "#E5ECF6",
              "width": 0.5
             },
             "pattern": {
              "fillmode": "overlay",
              "size": 10,
              "solidity": 0.2
             }
            },
            "type": "barpolar"
           }
          ],
          "carpet": [
           {
            "aaxis": {
             "endlinecolor": "#2a3f5f",
             "gridcolor": "white",
             "linecolor": "white",
             "minorgridcolor": "white",
             "startlinecolor": "#2a3f5f"
            },
            "baxis": {
             "endlinecolor": "#2a3f5f",
             "gridcolor": "white",
             "linecolor": "white",
             "minorgridcolor": "white",
             "startlinecolor": "#2a3f5f"
            },
            "type": "carpet"
           }
          ],
          "choropleth": [
           {
            "colorbar": {
             "outlinewidth": 0,
             "ticks": ""
            },
            "type": "choropleth"
           }
          ],
          "contour": [
           {
            "colorbar": {
             "outlinewidth": 0,
             "ticks": ""
            },
            "colorscale": [
             [
              0,
              "#0d0887"
             ],
             [
              0.1111111111111111,
              "#46039f"
             ],
             [
              0.2222222222222222,
              "#7201a8"
             ],
             [
              0.3333333333333333,
              "#9c179e"
             ],
             [
              0.4444444444444444,
              "#bd3786"
             ],
             [
              0.5555555555555556,
              "#d8576b"
             ],
             [
              0.6666666666666666,
              "#ed7953"
             ],
             [
              0.7777777777777778,
              "#fb9f3a"
             ],
             [
              0.8888888888888888,
              "#fdca26"
             ],
             [
              1,
              "#f0f921"
             ]
            ],
            "type": "contour"
           }
          ],
          "contourcarpet": [
           {
            "colorbar": {
             "outlinewidth": 0,
             "ticks": ""
            },
            "type": "contourcarpet"
           }
          ],
          "heatmap": [
           {
            "colorbar": {
             "outlinewidth": 0,
             "ticks": ""
            },
            "colorscale": [
             [
              0,
              "#0d0887"
             ],
             [
              0.1111111111111111,
              "#46039f"
             ],
             [
              0.2222222222222222,
              "#7201a8"
             ],
             [
              0.3333333333333333,
              "#9c179e"
             ],
             [
              0.4444444444444444,
              "#bd3786"
             ],
             [
              0.5555555555555556,
              "#d8576b"
             ],
             [
              0.6666666666666666,
              "#ed7953"
             ],
             [
              0.7777777777777778,
              "#fb9f3a"
             ],
             [
              0.8888888888888888,
              "#fdca26"
             ],
             [
              1,
              "#f0f921"
             ]
            ],
            "type": "heatmap"
           }
          ],
          "heatmapgl": [
           {
            "colorbar": {
             "outlinewidth": 0,
             "ticks": ""
            },
            "colorscale": [
             [
              0,
              "#0d0887"
             ],
             [
              0.1111111111111111,
              "#46039f"
             ],
             [
              0.2222222222222222,
              "#7201a8"
             ],
             [
              0.3333333333333333,
              "#9c179e"
             ],
             [
              0.4444444444444444,
              "#bd3786"
             ],
             [
              0.5555555555555556,
              "#d8576b"
             ],
             [
              0.6666666666666666,
              "#ed7953"
             ],
             [
              0.7777777777777778,
              "#fb9f3a"
             ],
             [
              0.8888888888888888,
              "#fdca26"
             ],
             [
              1,
              "#f0f921"
             ]
            ],
            "type": "heatmapgl"
           }
          ],
          "histogram": [
           {
            "marker": {
             "pattern": {
              "fillmode": "overlay",
              "size": 10,
              "solidity": 0.2
             }
            },
            "type": "histogram"
           }
          ],
          "histogram2d": [
           {
            "colorbar": {
             "outlinewidth": 0,
             "ticks": ""
            },
            "colorscale": [
             [
              0,
              "#0d0887"
             ],
             [
              0.1111111111111111,
              "#46039f"
             ],
             [
              0.2222222222222222,
              "#7201a8"
             ],
             [
              0.3333333333333333,
              "#9c179e"
             ],
             [
              0.4444444444444444,
              "#bd3786"
             ],
             [
              0.5555555555555556,
              "#d8576b"
             ],
             [
              0.6666666666666666,
              "#ed7953"
             ],
             [
              0.7777777777777778,
              "#fb9f3a"
             ],
             [
              0.8888888888888888,
              "#fdca26"
             ],
             [
              1,
              "#f0f921"
             ]
            ],
            "type": "histogram2d"
           }
          ],
          "histogram2dcontour": [
           {
            "colorbar": {
             "outlinewidth": 0,
             "ticks": ""
            },
            "colorscale": [
             [
              0,
              "#0d0887"
             ],
             [
              0.1111111111111111,
              "#46039f"
             ],
             [
              0.2222222222222222,
              "#7201a8"
             ],
             [
              0.3333333333333333,
              "#9c179e"
             ],
             [
              0.4444444444444444,
              "#bd3786"
             ],
             [
              0.5555555555555556,
              "#d8576b"
             ],
             [
              0.6666666666666666,
              "#ed7953"
             ],
             [
              0.7777777777777778,
              "#fb9f3a"
             ],
             [
              0.8888888888888888,
              "#fdca26"
             ],
             [
              1,
              "#f0f921"
             ]
            ],
            "type": "histogram2dcontour"
           }
          ],
          "mesh3d": [
           {
            "colorbar": {
             "outlinewidth": 0,
             "ticks": ""
            },
            "type": "mesh3d"
           }
          ],
          "parcoords": [
           {
            "line": {
             "colorbar": {
              "outlinewidth": 0,
              "ticks": ""
             }
            },
            "type": "parcoords"
           }
          ],
          "pie": [
           {
            "automargin": true,
            "type": "pie"
           }
          ],
          "scatter": [
           {
            "fillpattern": {
             "fillmode": "overlay",
             "size": 10,
             "solidity": 0.2
            },
            "type": "scatter"
           }
          ],
          "scatter3d": [
           {
            "line": {
             "colorbar": {
              "outlinewidth": 0,
              "ticks": ""
             }
            },
            "marker": {
             "colorbar": {
              "outlinewidth": 0,
              "ticks": ""
             }
            },
            "type": "scatter3d"
           }
          ],
          "scattercarpet": [
           {
            "marker": {
             "colorbar": {
              "outlinewidth": 0,
              "ticks": ""
             }
            },
            "type": "scattercarpet"
           }
          ],
          "scattergeo": [
           {
            "marker": {
             "colorbar": {
              "outlinewidth": 0,
              "ticks": ""
             }
            },
            "type": "scattergeo"
           }
          ],
          "scattergl": [
           {
            "marker": {
             "colorbar": {
              "outlinewidth": 0,
              "ticks": ""
             }
            },
            "type": "scattergl"
           }
          ],
          "scattermapbox": [
           {
            "marker": {
             "colorbar": {
              "outlinewidth": 0,
              "ticks": ""
             }
            },
            "type": "scattermapbox"
           }
          ],
          "scatterpolar": [
           {
            "marker": {
             "colorbar": {
              "outlinewidth": 0,
              "ticks": ""
             }
            },
            "type": "scatterpolar"
           }
          ],
          "scatterpolargl": [
           {
            "marker": {
             "colorbar": {
              "outlinewidth": 0,
              "ticks": ""
             }
            },
            "type": "scatterpolargl"
           }
          ],
          "scatterternary": [
           {
            "marker": {
             "colorbar": {
              "outlinewidth": 0,
              "ticks": ""
             }
            },
            "type": "scatterternary"
           }
          ],
          "surface": [
           {
            "colorbar": {
             "outlinewidth": 0,
             "ticks": ""
            },
            "colorscale": [
             [
              0,
              "#0d0887"
             ],
             [
              0.1111111111111111,
              "#46039f"
             ],
             [
              0.2222222222222222,
              "#7201a8"
             ],
             [
              0.3333333333333333,
              "#9c179e"
             ],
             [
              0.4444444444444444,
              "#bd3786"
             ],
             [
              0.5555555555555556,
              "#d8576b"
             ],
             [
              0.6666666666666666,
              "#ed7953"
             ],
             [
              0.7777777777777778,
              "#fb9f3a"
             ],
             [
              0.8888888888888888,
              "#fdca26"
             ],
             [
              1,
              "#f0f921"
             ]
            ],
            "type": "surface"
           }
          ],
          "table": [
           {
            "cells": {
             "fill": {
              "color": "#EBF0F8"
             },
             "line": {
              "color": "white"
             }
            },
            "header": {
             "fill": {
              "color": "#C8D4E3"
             },
             "line": {
              "color": "white"
             }
            },
            "type": "table"
           }
          ]
         },
         "layout": {
          "annotationdefaults": {
           "arrowcolor": "#2a3f5f",
           "arrowhead": 0,
           "arrowwidth": 1
          },
          "autotypenumbers": "strict",
          "coloraxis": {
           "colorbar": {
            "outlinewidth": 0,
            "ticks": ""
           }
          },
          "colorscale": {
           "diverging": [
            [
             0,
             "#8e0152"
            ],
            [
             0.1,
             "#c51b7d"
            ],
            [
             0.2,
             "#de77ae"
            ],
            [
             0.3,
             "#f1b6da"
            ],
            [
             0.4,
             "#fde0ef"
            ],
            [
             0.5,
             "#f7f7f7"
            ],
            [
             0.6,
             "#e6f5d0"
            ],
            [
             0.7,
             "#b8e186"
            ],
            [
             0.8,
             "#7fbc41"
            ],
            [
             0.9,
             "#4d9221"
            ],
            [
             1,
             "#276419"
            ]
           ],
           "sequential": [
            [
             0,
             "#0d0887"
            ],
            [
             0.1111111111111111,
             "#46039f"
            ],
            [
             0.2222222222222222,
             "#7201a8"
            ],
            [
             0.3333333333333333,
             "#9c179e"
            ],
            [
             0.4444444444444444,
             "#bd3786"
            ],
            [
             0.5555555555555556,
             "#d8576b"
            ],
            [
             0.6666666666666666,
             "#ed7953"
            ],
            [
             0.7777777777777778,
             "#fb9f3a"
            ],
            [
             0.8888888888888888,
             "#fdca26"
            ],
            [
             1,
             "#f0f921"
            ]
           ],
           "sequentialminus": [
            [
             0,
             "#0d0887"
            ],
            [
             0.1111111111111111,
             "#46039f"
            ],
            [
             0.2222222222222222,
             "#7201a8"
            ],
            [
             0.3333333333333333,
             "#9c179e"
            ],
            [
             0.4444444444444444,
             "#bd3786"
            ],
            [
             0.5555555555555556,
             "#d8576b"
            ],
            [
             0.6666666666666666,
             "#ed7953"
            ],
            [
             0.7777777777777778,
             "#fb9f3a"
            ],
            [
             0.8888888888888888,
             "#fdca26"
            ],
            [
             1,
             "#f0f921"
            ]
           ]
          },
          "colorway": [
           "#636efa",
           "#EF553B",
           "#00cc96",
           "#ab63fa",
           "#FFA15A",
           "#19d3f3",
           "#FF6692",
           "#B6E880",
           "#FF97FF",
           "#FECB52"
          ],
          "font": {
           "color": "#2a3f5f"
          },
          "geo": {
           "bgcolor": "white",
           "lakecolor": "white",
           "landcolor": "#E5ECF6",
           "showlakes": true,
           "showland": true,
           "subunitcolor": "white"
          },
          "hoverlabel": {
           "align": "left"
          },
          "hovermode": "closest",
          "mapbox": {
           "style": "light"
          },
          "paper_bgcolor": "white",
          "plot_bgcolor": "#E5ECF6",
          "polar": {
           "angularaxis": {
            "gridcolor": "white",
            "linecolor": "white",
            "ticks": ""
           },
           "bgcolor": "#E5ECF6",
           "radialaxis": {
            "gridcolor": "white",
            "linecolor": "white",
            "ticks": ""
           }
          },
          "scene": {
           "xaxis": {
            "backgroundcolor": "#E5ECF6",
            "gridcolor": "white",
            "gridwidth": 2,
            "linecolor": "white",
            "showbackground": true,
            "ticks": "",
            "zerolinecolor": "white"
           },
           "yaxis": {
            "backgroundcolor": "#E5ECF6",
            "gridcolor": "white",
            "gridwidth": 2,
            "linecolor": "white",
            "showbackground": true,
            "ticks": "",
            "zerolinecolor": "white"
           },
           "zaxis": {
            "backgroundcolor": "#E5ECF6",
            "gridcolor": "white",
            "gridwidth": 2,
            "linecolor": "white",
            "showbackground": true,
            "ticks": "",
            "zerolinecolor": "white"
           }
          },
          "shapedefaults": {
           "line": {
            "color": "#2a3f5f"
           }
          },
          "ternary": {
           "aaxis": {
            "gridcolor": "white",
            "linecolor": "white",
            "ticks": ""
           },
           "baxis": {
            "gridcolor": "white",
            "linecolor": "white",
            "ticks": ""
           },
           "bgcolor": "#E5ECF6",
           "caxis": {
            "gridcolor": "white",
            "linecolor": "white",
            "ticks": ""
           }
          },
          "title": {
           "x": 0.05
          },
          "xaxis": {
           "automargin": true,
           "gridcolor": "white",
           "linecolor": "white",
           "ticks": "",
           "title": {
            "standoff": 15
           },
           "zerolinecolor": "white",
           "zerolinewidth": 2
          },
          "yaxis": {
           "automargin": true,
           "gridcolor": "white",
           "linecolor": "white",
           "ticks": "",
           "title": {
            "standoff": 15
           },
           "zerolinecolor": "white",
           "zerolinewidth": 2
          }
         }
        }
       }
      },
      "text/html": [
       "<div>                            <div id=\"31bdab23-66d1-4a7c-9d9c-e050b365dca2\" class=\"plotly-graph-div\" style=\"height:300px; width:100%;\"></div>            <script type=\"text/javascript\">                require([\"plotly\"], function(Plotly) {                    window.PLOTLYENV=window.PLOTLYENV || {};                                    if (document.getElementById(\"31bdab23-66d1-4a7c-9d9c-e050b365dca2\")) {                    Plotly.newPlot(                        \"31bdab23-66d1-4a7c-9d9c-e050b365dca2\",                        [{\"hovertemplate\":\"\\u003cb\\u003e%{hovertext}\\u003c\\u002fb\\u003e\\u003cbr\\u003e\\u003cbr\\u003eLATITUDE=%{lat}\\u003cbr\\u003eLONGITUDE=%{lon}\\u003cbr\\u003eYearly Increase=%{marker.color}\\u003cextra\\u003e\\u003c\\u002fextra\\u003e\",\"hovertext\":[\"AGARTALA\",\"AHMADABAD\",\"AKOLA\",\"AKOLA\",\"ALLAHABAD\",\"ALLAHABAD_BAMHRAULI\",\"AMRITSAR\",\"AURANGABAD_CHIKALTH\",\"BALASORE\",\"BANGALORE\",\"BAREILLY\",\"BEGUMPETOBSY\",\"BELGAUM_SAMBRA\",\"BHOPAL_BAIRAGARH\",\"BHUBANESWAR\",\"BHUJ_RUDRAMATA\",\"BIKANER\",\"BOMBAY_COLABA\",\"BOMBAY_SANTACRUZ\",\"CALCUTTA_ALIPORE\",\"CALCUTTA_DUM_DUM\",\"CHERRAPUNJI\",\"CHERRA_POONJEE\",\"CHITRADURGA\",\"COIMBATORE_PEELAMED\",\"CUDDALORE\",\"DALTONGANJ\",\"DEHRADUN\",\"DIBRUGARH_MOHANBAR\",\"DUMKA\",\"DWARKA\",\"GADAG\",\"GANGANAGAR\",\"GAUHATI\",\"GAYA\",\"GOA_PANJIM\",\"GORAKHPUR\",\"GUNA\",\"GWALIOR\",\"HISSAR\",\"HONAVAR\",\"IMPHAL\",\"INDORE\",\"JABALPUR\",\"JAGDALPUR\",\"JAIPUR_SANGANER\",\"JAISALMER\",\"JHARSUGUDA\",\"JODHPUR\",\"KAKINADA\",\"KARAIKAL\",\"KODAIKANAL\",\"KOTA_AERODROME\",\"KOZHIKODE\",\"KURNOOL\",\"LUCKNOW_AMAUSI\",\"LUDHIANA\",\"MACHILIPATNAM\",\"MADRAS_MINAMBAKKAM\",\"MANGALORE_BAJPE\",\"MINICOY\",\"MINICOYOBSY\",\"MO_AMINI\",\"MO_RANCHI\",\"MUKTESWAR_KUMAON\",\"NAGPUR_SONEGAON\",\"NELLORE\",\"NEW_DELHI_PALAM\",\"NEW_DELHI_SAFDARJUN\",\"NORTH_LAKHIMPUR\",\"PAMBAN\",\"PATIALA\",\"PATNA\",\"PBO_ANANTAPUR\",\"PENDRA_ROAD\",\"POONA\",\"PORT_BLAIR\",\"RAIPUR\",\"RAJKOT\",\"RAMGUNDAM\",\"RATNAGIRI\",\"SAGAR\",\"SANDHEADS\",\"SATNA\",\"SHILONG\",\"SHIMLA\",\"SHOLAPUR\",\"SILCHAR\",\"SRINAGAR\",\"SURAT\",\"TEZPUR\",\"THIRUVANANTHAPURAM\",\"THIRUVANANTHAPURAM\",\"TIRUCHCHIRAPALLI\",\"TRIVANDRUM\",\"UDAIPUR_DABOK\",\"VARANASI_BABATPUR\",\"VERAVAL\",\"VISHAKHAPATNAM\"],\"lat\":[23.883,23.067,20.7,20.7,25.441,25.5,31.71,19.85,21.517,12.967,28.367,17.45,15.85,23.283,20.25,23.25,28.0,18.9,19.117,22.533,22.65,25.25,25.25,14.233,11.033,11.767,24.05,30.317,27.483,24.267,22.3667,15.417,29.917,26.1,24.75,15.483,26.75,24.65,26.233,29.167,14.283,24.667,22.717,23.2,19.083,26.817,26.9,21.917,26.3,16.95,10.917,10.2333,25.15,11.25,15.8,26.75,30.9333,16.2,13.0,12.917,8.3,8.3,11.117,23.317,29.4667,21.1,14.45,28.567,28.583,27.233,9.267,30.333,25.6,14.583,22.767,18.533,11.667,21.217,22.3,18.767,16.983,23.85,20.85,24.567,25.6,31.1,17.667,24.82,34.083,21.2,26.617,8.467,8.483,10.767,8.5,24.617,25.45,20.9,17.717],\"legendgroup\":\"\",\"lon\":[91.25,72.633,77.033,77.067,81.735,81.9,74.797,75.4,86.933,77.583,79.4,78.47,74.617,77.35,85.833,69.667,73.3,72.8167,72.85,88.333,88.45,91.7333,91.73,76.433,77.05,79.767,84.067,78.033,95.017,87.25,69.0833,75.633,73.917,91.583,84.95,73.817,83.367,77.317,78.25,75.733,74.45,93.9,75.8,79.95,82.033,75.8,70.917,84.083,73.017,82.233,79.833,77.4667,75.85,75.783,78.067,80.883,75.8667,81.15,80.183,74.883,73.15,73.0,72.733,85.317,79.65,79.05,79.983,77.117,77.2,94.117,79.3,76.467,85.1,77.633,81.9,73.85,92.717,81.667,70.783,79.433,73.333,78.75,88.25,80.833,91.89,77.167,75.9,92.83,74.833,72.833,92.783,76.95,76.95,78.717,77.0,73.883,82.867,70.367,83.233],\"marker\":{\"color\":[-0.006183811129848238,0.0067308597025915766,-0.0017758837772397095,-0.005939334120591499,-0.029375055494716883,-0.01545666555613727,-0.00699792531120331,0.012432445591314102,-0.00853532162264629,0.0360485735708181,-0.01692167188537811,0.010659470125093384,-0.0035940766550522575,-0.022141209450285828,-0.016133488420135563,0.06992104800808187,0.01718013781034673,0.011445804713175408,0.03473019082522431,-0.010346634984974477,-0.0161829268292683,0.04650531543205272,-0.02196969696969708,0.015587015613548466,0.03437011427849288,0.02080581199666612,-0.004619796704508838,0.04361124694376528,0.051959662288930585,-0.0820879120879119,0.016960521326348618,0.008918216844784598,-0.007582417582417614,0.014095447695660174,-0.01813076923076922,0.022398954703832772,0.0039398484370066185,-0.009171504550732236,-0.018395355327177645,-0.0033838255106870938,-0.0491733006736069,0.06331277990523787,0.003005167859002305,-0.025226394467890417,-0.0001382889963445708,0.006747873199496707,0.002615235927732999,-0.018483861496963124,0.00967608910193149,0.02601663112816565,0.021293478260869626,0.06909090909090908,-0.018580394821543535,0.03339100605670795,0.025653099244929176,-0.03722626774847871,0.13179063360881538,0.01226704591942323,0.02374484590118107,0.02328917118539812,0.025210476706174916,0.014113772841738221,-0.006249999999999854,0.005267073384831474,0.01548473928233975,-0.02462120461695937,0.02346685125913133,0.005587703435804699,-0.002409407665505227,0.09547548433389141,0.024844173744931843,-0.011647126557102462,-0.02185513438609661,0.026258125009932767,-0.009553449032801422,-0.0004445988190343688,0.030734217877094964,0.001427210836361089,0.015685536018150894,-0.00888194853663324,0.003240895098029199,0.0015395460312984538,-0.052447665056360726,-0.022613636363636384,0.013454496208017324,0.004006465200568158,0.0037817395036120536,0.016082518381040727,0.04876296814627764,0.023199215429258024,0.03942452222460808,0.008583554116377186,0.02058426411063232,0.014605567154412205,0.022892088111541916,0.07242424242424236,-0.012996067688773032,0.024848432055749124,-0.03404972919743972],\"coloraxis\":\"coloraxis\"},\"mode\":\"markers\",\"name\":\"\",\"showlegend\":false,\"subplot\":\"mapbox\",\"type\":\"scattermapbox\"}],                        {\"template\":{\"data\":{\"histogram2dcontour\":[{\"type\":\"histogram2dcontour\",\"colorbar\":{\"outlinewidth\":0,\"ticks\":\"\"},\"colorscale\":[[0.0,\"#0d0887\"],[0.1111111111111111,\"#46039f\"],[0.2222222222222222,\"#7201a8\"],[0.3333333333333333,\"#9c179e\"],[0.4444444444444444,\"#bd3786\"],[0.5555555555555556,\"#d8576b\"],[0.6666666666666666,\"#ed7953\"],[0.7777777777777778,\"#fb9f3a\"],[0.8888888888888888,\"#fdca26\"],[1.0,\"#f0f921\"]]}],\"choropleth\":[{\"type\":\"choropleth\",\"colorbar\":{\"outlinewidth\":0,\"ticks\":\"\"}}],\"histogram2d\":[{\"type\":\"histogram2d\",\"colorbar\":{\"outlinewidth\":0,\"ticks\":\"\"},\"colorscale\":[[0.0,\"#0d0887\"],[0.1111111111111111,\"#46039f\"],[0.2222222222222222,\"#7201a8\"],[0.3333333333333333,\"#9c179e\"],[0.4444444444444444,\"#bd3786\"],[0.5555555555555556,\"#d8576b\"],[0.6666666666666666,\"#ed7953\"],[0.7777777777777778,\"#fb9f3a\"],[0.8888888888888888,\"#fdca26\"],[1.0,\"#f0f921\"]]}],\"heatmap\":[{\"type\":\"heatmap\",\"colorbar\":{\"outlinewidth\":0,\"ticks\":\"\"},\"colorscale\":[[0.0,\"#0d0887\"],[0.1111111111111111,\"#46039f\"],[0.2222222222222222,\"#7201a8\"],[0.3333333333333333,\"#9c179e\"],[0.4444444444444444,\"#bd3786\"],[0.5555555555555556,\"#d8576b\"],[0.6666666666666666,\"#ed7953\"],[0.7777777777777778,\"#fb9f3a\"],[0.8888888888888888,\"#fdca26\"],[1.0,\"#f0f921\"]]}],\"heatmapgl\":[{\"type\":\"heatmapgl\",\"colorbar\":{\"outlinewidth\":0,\"ticks\":\"\"},\"colorscale\":[[0.0,\"#0d0887\"],[0.1111111111111111,\"#46039f\"],[0.2222222222222222,\"#7201a8\"],[0.3333333333333333,\"#9c179e\"],[0.4444444444444444,\"#bd3786\"],[0.5555555555555556,\"#d8576b\"],[0.6666666666666666,\"#ed7953\"],[0.7777777777777778,\"#fb9f3a\"],[0.8888888888888888,\"#fdca26\"],[1.0,\"#f0f921\"]]}],\"contourcarpet\":[{\"type\":\"contourcarpet\",\"colorbar\":{\"outlinewidth\":0,\"ticks\":\"\"}}],\"contour\":[{\"type\":\"contour\",\"colorbar\":{\"outlinewidth\":0,\"ticks\":\"\"},\"colorscale\":[[0.0,\"#0d0887\"],[0.1111111111111111,\"#46039f\"],[0.2222222222222222,\"#7201a8\"],[0.3333333333333333,\"#9c179e\"],[0.4444444444444444,\"#bd3786\"],[0.5555555555555556,\"#d8576b\"],[0.6666666666666666,\"#ed7953\"],[0.7777777777777778,\"#fb9f3a\"],[0.8888888888888888,\"#fdca26\"],[1.0,\"#f0f921\"]]}],\"surface\":[{\"type\":\"surface\",\"colorbar\":{\"outlinewidth\":0,\"ticks\":\"\"},\"colorscale\":[[0.0,\"#0d0887\"],[0.1111111111111111,\"#46039f\"],[0.2222222222222222,\"#7201a8\"],[0.3333333333333333,\"#9c179e\"],[0.4444444444444444,\"#bd3786\"],[0.5555555555555556,\"#d8576b\"],[0.6666666666666666,\"#ed7953\"],[0.7777777777777778,\"#fb9f3a\"],[0.8888888888888888,\"#fdca26\"],[1.0,\"#f0f921\"]]}],\"mesh3d\":[{\"type\":\"mesh3d\",\"colorbar\":{\"outlinewidth\":0,\"ticks\":\"\"}}],\"scatter\":[{\"fillpattern\":{\"fillmode\":\"overlay\",\"size\":10,\"solidity\":0.2},\"type\":\"scatter\"}],\"parcoords\":[{\"type\":\"parcoords\",\"line\":{\"colorbar\":{\"outlinewidth\":0,\"ticks\":\"\"}}}],\"scatterpolargl\":[{\"type\":\"scatterpolargl\",\"marker\":{\"colorbar\":{\"outlinewidth\":0,\"ticks\":\"\"}}}],\"bar\":[{\"error_x\":{\"color\":\"#2a3f5f\"},\"error_y\":{\"color\":\"#2a3f5f\"},\"marker\":{\"line\":{\"color\":\"#E5ECF6\",\"width\":0.5},\"pattern\":{\"fillmode\":\"overlay\",\"size\":10,\"solidity\":0.2}},\"type\":\"bar\"}],\"scattergeo\":[{\"type\":\"scattergeo\",\"marker\":{\"colorbar\":{\"outlinewidth\":0,\"ticks\":\"\"}}}],\"scatterpolar\":[{\"type\":\"scatterpolar\",\"marker\":{\"colorbar\":{\"outlinewidth\":0,\"ticks\":\"\"}}}],\"histogram\":[{\"marker\":{\"pattern\":{\"fillmode\":\"overlay\",\"size\":10,\"solidity\":0.2}},\"type\":\"histogram\"}],\"scattergl\":[{\"type\":\"scattergl\",\"marker\":{\"colorbar\":{\"outlinewidth\":0,\"ticks\":\"\"}}}],\"scatter3d\":[{\"type\":\"scatter3d\",\"line\":{\"colorbar\":{\"outlinewidth\":0,\"ticks\":\"\"}},\"marker\":{\"colorbar\":{\"outlinewidth\":0,\"ticks\":\"\"}}}],\"scattermapbox\":[{\"type\":\"scattermapbox\",\"marker\":{\"colorbar\":{\"outlinewidth\":0,\"ticks\":\"\"}}}],\"scatterternary\":[{\"type\":\"scatterternary\",\"marker\":{\"colorbar\":{\"outlinewidth\":0,\"ticks\":\"\"}}}],\"scattercarpet\":[{\"type\":\"scattercarpet\",\"marker\":{\"colorbar\":{\"outlinewidth\":0,\"ticks\":\"\"}}}],\"carpet\":[{\"aaxis\":{\"endlinecolor\":\"#2a3f5f\",\"gridcolor\":\"white\",\"linecolor\":\"white\",\"minorgridcolor\":\"white\",\"startlinecolor\":\"#2a3f5f\"},\"baxis\":{\"endlinecolor\":\"#2a3f5f\",\"gridcolor\":\"white\",\"linecolor\":\"white\",\"minorgridcolor\":\"white\",\"startlinecolor\":\"#2a3f5f\"},\"type\":\"carpet\"}],\"table\":[{\"cells\":{\"fill\":{\"color\":\"#EBF0F8\"},\"line\":{\"color\":\"white\"}},\"header\":{\"fill\":{\"color\":\"#C8D4E3\"},\"line\":{\"color\":\"white\"}},\"type\":\"table\"}],\"barpolar\":[{\"marker\":{\"line\":{\"color\":\"#E5ECF6\",\"width\":0.5},\"pattern\":{\"fillmode\":\"overlay\",\"size\":10,\"solidity\":0.2}},\"type\":\"barpolar\"}],\"pie\":[{\"automargin\":true,\"type\":\"pie\"}]},\"layout\":{\"autotypenumbers\":\"strict\",\"colorway\":[\"#636efa\",\"#EF553B\",\"#00cc96\",\"#ab63fa\",\"#FFA15A\",\"#19d3f3\",\"#FF6692\",\"#B6E880\",\"#FF97FF\",\"#FECB52\"],\"font\":{\"color\":\"#2a3f5f\"},\"hovermode\":\"closest\",\"hoverlabel\":{\"align\":\"left\"},\"paper_bgcolor\":\"white\",\"plot_bgcolor\":\"#E5ECF6\",\"polar\":{\"bgcolor\":\"#E5ECF6\",\"angularaxis\":{\"gridcolor\":\"white\",\"linecolor\":\"white\",\"ticks\":\"\"},\"radialaxis\":{\"gridcolor\":\"white\",\"linecolor\":\"white\",\"ticks\":\"\"}},\"ternary\":{\"bgcolor\":\"#E5ECF6\",\"aaxis\":{\"gridcolor\":\"white\",\"linecolor\":\"white\",\"ticks\":\"\"},\"baxis\":{\"gridcolor\":\"white\",\"linecolor\":\"white\",\"ticks\":\"\"},\"caxis\":{\"gridcolor\":\"white\",\"linecolor\":\"white\",\"ticks\":\"\"}},\"coloraxis\":{\"colorbar\":{\"outlinewidth\":0,\"ticks\":\"\"}},\"colorscale\":{\"sequential\":[[0.0,\"#0d0887\"],[0.1111111111111111,\"#46039f\"],[0.2222222222222222,\"#7201a8\"],[0.3333333333333333,\"#9c179e\"],[0.4444444444444444,\"#bd3786\"],[0.5555555555555556,\"#d8576b\"],[0.6666666666666666,\"#ed7953\"],[0.7777777777777778,\"#fb9f3a\"],[0.8888888888888888,\"#fdca26\"],[1.0,\"#f0f921\"]],\"sequentialminus\":[[0.0,\"#0d0887\"],[0.1111111111111111,\"#46039f\"],[0.2222222222222222,\"#7201a8\"],[0.3333333333333333,\"#9c179e\"],[0.4444444444444444,\"#bd3786\"],[0.5555555555555556,\"#d8576b\"],[0.6666666666666666,\"#ed7953\"],[0.7777777777777778,\"#fb9f3a\"],[0.8888888888888888,\"#fdca26\"],[1.0,\"#f0f921\"]],\"diverging\":[[0,\"#8e0152\"],[0.1,\"#c51b7d\"],[0.2,\"#de77ae\"],[0.3,\"#f1b6da\"],[0.4,\"#fde0ef\"],[0.5,\"#f7f7f7\"],[0.6,\"#e6f5d0\"],[0.7,\"#b8e186\"],[0.8,\"#7fbc41\"],[0.9,\"#4d9221\"],[1,\"#276419\"]]},\"xaxis\":{\"gridcolor\":\"white\",\"linecolor\":\"white\",\"ticks\":\"\",\"title\":{\"standoff\":15},\"zerolinecolor\":\"white\",\"automargin\":true,\"zerolinewidth\":2},\"yaxis\":{\"gridcolor\":\"white\",\"linecolor\":\"white\",\"ticks\":\"\",\"title\":{\"standoff\":15},\"zerolinecolor\":\"white\",\"automargin\":true,\"zerolinewidth\":2},\"scene\":{\"xaxis\":{\"backgroundcolor\":\"#E5ECF6\",\"gridcolor\":\"white\",\"linecolor\":\"white\",\"showbackground\":true,\"ticks\":\"\",\"zerolinecolor\":\"white\",\"gridwidth\":2},\"yaxis\":{\"backgroundcolor\":\"#E5ECF6\",\"gridcolor\":\"white\",\"linecolor\":\"white\",\"showbackground\":true,\"ticks\":\"\",\"zerolinecolor\":\"white\",\"gridwidth\":2},\"zaxis\":{\"backgroundcolor\":\"#E5ECF6\",\"gridcolor\":\"white\",\"linecolor\":\"white\",\"showbackground\":true,\"ticks\":\"\",\"zerolinecolor\":\"white\",\"gridwidth\":2}},\"shapedefaults\":{\"line\":{\"color\":\"#2a3f5f\"}},\"annotationdefaults\":{\"arrowcolor\":\"#2a3f5f\",\"arrowhead\":0,\"arrowwidth\":1},\"geo\":{\"bgcolor\":\"white\",\"landcolor\":\"#E5ECF6\",\"subunitcolor\":\"white\",\"showland\":true,\"showlakes\":true,\"lakecolor\":\"white\"},\"title\":{\"x\":0.05},\"mapbox\":{\"style\":\"light\"}}},\"mapbox\":{\"domain\":{\"x\":[0.0,1.0],\"y\":[0.0,1.0]},\"center\":{\"lat\":21.042010101010103,\"lon\":79.63467373737375},\"zoom\":2,\"style\":\"carto-positron\"},\"coloraxis\":{\"colorbar\":{\"title\":{\"text\":\"Yearly Increase\"}},\"colorscale\":[[0.0,\"rgb(26,26,26)\"],[0.1,\"rgb(77,77,77)\"],[0.2,\"rgb(135,135,135)\"],[0.3,\"rgb(186,186,186)\"],[0.4,\"rgb(224,224,224)\"],[0.5,\"rgb(255,255,255)\"],[0.6,\"rgb(253,219,199)\"],[0.7,\"rgb(244,165,130)\"],[0.8,\"rgb(214,96,77)\"],[0.9,\"rgb(178,24,43)\"],[1.0,\"rgb(103,0,31)\"]]},\"legend\":{\"tracegroupgap\":0},\"margin\":{\"t\":0,\"r\":0,\"l\":0,\"b\":0},\"height\":300},                        {\"responsive\": true}                    ).then(function(){\n",
       "                            \n",
       "var gd = document.getElementById('31bdab23-66d1-4a7c-9d9c-e050b365dca2');\n",
       "var x = new MutationObserver(function (mutations, observer) {{\n",
       "        var display = window.getComputedStyle(gd).display;\n",
       "        if (!display || display === 'none') {{\n",
       "            console.log([gd, 'removed!']);\n",
       "            Plotly.purge(gd);\n",
       "            observer.disconnect();\n",
       "        }}\n",
       "}});\n",
       "\n",
       "// Listen for the removal of the full notebook cells\n",
       "var notebookContainer = gd.closest('#notebook-container');\n",
       "if (notebookContainer) {{\n",
       "    x.observe(notebookContainer, {childList: true});\n",
       "}}\n",
       "\n",
       "// Listen for the clearing of the current output cell\n",
       "var outputEl = gd.closest('.output');\n",
       "if (outputEl) {{\n",
       "    x.observe(outputEl, {childList: true});\n",
       "}}\n",
       "\n",
       "                        })                };                });            </script>        </div>"
      ]
     },
     "metadata": {},
     "output_type": "display_data"
    }
   ],
   "source": [
    "station_temp_plot(\"temps.db\", month = 1)\n",
    "fig.show()"
   ]
  },
  {
   "cell_type": "code",
   "execution_count": null,
   "id": "7764adec",
   "metadata": {},
   "outputs": [],
   "source": [
    "def temp_comparison_plot(db_file, month, year_one, year_two, **kwargs) :\n",
    "    with sqlite3.connect(db_file) as conn:\n",
    "    # conn is automatically closed when this block ends\n",
    "        cmd = \\\n",
    "        f\"\"\"\n",
    "        SELECT S.NAME, S.LATITUDE, S.LONGITUDE, C.Name \"Country\", T.Year, T.Month, T.Temp\n",
    "        FROM temperatures T\n",
    "        LEFT JOIN stations S ON T.id = S.id\n",
    "        LEFT JOIN countries C on substring(T.id,1,2) = C.'FIPS 10-4'  \n",
    "        WHERE \n",
    "        T.month = {month}\n",
    "        AND \n",
    "        S.LATITUDE BETWEEN 33.951717 AND 34.153109\n",
    "        AND \n",
    "        S.LONGITUDE BETWEEN -118.492815 AND -118.167345\n",
    "        \"\"\"\n",
    "    df = pd.read_sql_query(cmd, conn)\n",
    "    \n",
    "    df[\"Year\" == year_one & \"Year == year_two\",]\n",
    "    "
   ]
  },
  {
   "cell_type": "code",
   "execution_count": 32,
   "id": "6767e6e7",
   "metadata": {},
   "outputs": [
    {
     "data": {
      "text/html": [
       "<div>\n",
       "<style scoped>\n",
       "    .dataframe tbody tr th:only-of-type {\n",
       "        vertical-align: middle;\n",
       "    }\n",
       "\n",
       "    .dataframe tbody tr th {\n",
       "        vertical-align: top;\n",
       "    }\n",
       "\n",
       "    .dataframe thead th {\n",
       "        text-align: right;\n",
       "    }\n",
       "</style>\n",
       "<table border=\"1\" class=\"dataframe\">\n",
       "  <thead>\n",
       "    <tr style=\"text-align: right;\">\n",
       "      <th></th>\n",
       "      <th>NAME</th>\n",
       "      <th>LATITUDE</th>\n",
       "      <th>LONGITUDE</th>\n",
       "      <th>Country</th>\n",
       "      <th>Year</th>\n",
       "      <th>Month</th>\n",
       "      <th>Temp</th>\n",
       "    </tr>\n",
       "  </thead>\n",
       "  <tbody>\n",
       "    <tr>\n",
       "      <th>56</th>\n",
       "      <td>CULVER_CITY</td>\n",
       "      <td>34.0050</td>\n",
       "      <td>-118.4139</td>\n",
       "      <td>United States</td>\n",
       "      <td>2013</td>\n",
       "      <td>1</td>\n",
       "      <td>12.85</td>\n",
       "    </tr>\n",
       "    <tr>\n",
       "      <th>61</th>\n",
       "      <td>CULVER_CITY</td>\n",
       "      <td>34.0050</td>\n",
       "      <td>-118.4139</td>\n",
       "      <td>United States</td>\n",
       "      <td>2018</td>\n",
       "      <td>1</td>\n",
       "      <td>15.70</td>\n",
       "    </tr>\n",
       "    <tr>\n",
       "      <th>77</th>\n",
       "      <td>GETTY_CTR</td>\n",
       "      <td>34.0869</td>\n",
       "      <td>-118.4794</td>\n",
       "      <td>United States</td>\n",
       "      <td>2013</td>\n",
       "      <td>1</td>\n",
       "      <td>13.85</td>\n",
       "    </tr>\n",
       "    <tr>\n",
       "      <th>166</th>\n",
       "      <td>U_C_L_A</td>\n",
       "      <td>34.0697</td>\n",
       "      <td>-118.4428</td>\n",
       "      <td>United States</td>\n",
       "      <td>2013</td>\n",
       "      <td>1</td>\n",
       "      <td>14.27</td>\n",
       "    </tr>\n",
       "    <tr>\n",
       "      <th>171</th>\n",
       "      <td>U_C_L_A</td>\n",
       "      <td>34.0697</td>\n",
       "      <td>-118.4428</td>\n",
       "      <td>United States</td>\n",
       "      <td>2018</td>\n",
       "      <td>1</td>\n",
       "      <td>17.83</td>\n",
       "    </tr>\n",
       "    <tr>\n",
       "      <th>187</th>\n",
       "      <td>BEVERLY_HILLS_CALIFORNIA</td>\n",
       "      <td>34.1250</td>\n",
       "      <td>-118.4122</td>\n",
       "      <td>United States</td>\n",
       "      <td>2013</td>\n",
       "      <td>1</td>\n",
       "      <td>13.83</td>\n",
       "    </tr>\n",
       "    <tr>\n",
       "      <th>287</th>\n",
       "      <td>LOS_ANGELES_DWTN_USC_CAMPUS</td>\n",
       "      <td>34.0511</td>\n",
       "      <td>-118.2353</td>\n",
       "      <td>United States</td>\n",
       "      <td>2013</td>\n",
       "      <td>1</td>\n",
       "      <td>13.70</td>\n",
       "    </tr>\n",
       "    <tr>\n",
       "      <th>292</th>\n",
       "      <td>LOS_ANGELES_DWTN_USC_CAMPUS</td>\n",
       "      <td>34.0511</td>\n",
       "      <td>-118.2353</td>\n",
       "      <td>United States</td>\n",
       "      <td>2018</td>\n",
       "      <td>1</td>\n",
       "      <td>16.79</td>\n",
       "    </tr>\n",
       "    <tr>\n",
       "      <th>307</th>\n",
       "      <td>SANTA_MONICA_MUNI_AP</td>\n",
       "      <td>34.0158</td>\n",
       "      <td>-118.4514</td>\n",
       "      <td>United States</td>\n",
       "      <td>2013</td>\n",
       "      <td>1</td>\n",
       "      <td>13.39</td>\n",
       "    </tr>\n",
       "    <tr>\n",
       "      <th>312</th>\n",
       "      <td>SANTA_MONICA_MUNI_AP</td>\n",
       "      <td>34.0158</td>\n",
       "      <td>-118.4514</td>\n",
       "      <td>United States</td>\n",
       "      <td>2018</td>\n",
       "      <td>1</td>\n",
       "      <td>16.03</td>\n",
       "    </tr>\n",
       "  </tbody>\n",
       "</table>\n",
       "</div>"
      ],
      "text/plain": [
       "                            NAME  LATITUDE  LONGITUDE        Country  Year  \\\n",
       "56                   CULVER_CITY   34.0050  -118.4139  United States  2013   \n",
       "61                   CULVER_CITY   34.0050  -118.4139  United States  2018   \n",
       "77                     GETTY_CTR   34.0869  -118.4794  United States  2013   \n",
       "166                      U_C_L_A   34.0697  -118.4428  United States  2013   \n",
       "171                      U_C_L_A   34.0697  -118.4428  United States  2018   \n",
       "187     BEVERLY_HILLS_CALIFORNIA   34.1250  -118.4122  United States  2013   \n",
       "287  LOS_ANGELES_DWTN_USC_CAMPUS   34.0511  -118.2353  United States  2013   \n",
       "292  LOS_ANGELES_DWTN_USC_CAMPUS   34.0511  -118.2353  United States  2018   \n",
       "307         SANTA_MONICA_MUNI_AP   34.0158  -118.4514  United States  2013   \n",
       "312         SANTA_MONICA_MUNI_AP   34.0158  -118.4514  United States  2018   \n",
       "\n",
       "     Month   Temp  \n",
       "56       1  12.85  \n",
       "61       1  15.70  \n",
       "77       1  13.85  \n",
       "166      1  14.27  \n",
       "171      1  17.83  \n",
       "187      1  13.83  \n",
       "287      1  13.70  \n",
       "292      1  16.79  \n",
       "307      1  13.39  \n",
       "312      1  16.03  "
      ]
     },
     "execution_count": 32,
     "metadata": {},
     "output_type": "execute_result"
    }
   ],
   "source": [
    "la.loc[(la['Year']==2013) | (la['Year'] == 2018)]"
   ]
  },
  {
   "cell_type": "code",
   "execution_count": null,
   "id": "3b325b4d",
   "metadata": {},
   "outputs": [],
   "source": []
  }
 ],
 "metadata": {
  "kernelspec": {
   "display_name": "Python 3 (ipykernel)",
   "language": "python",
   "name": "python3"
  },
  "language_info": {
   "codemirror_mode": {
    "name": "ipython",
    "version": 3
   },
   "file_extension": ".py",
   "mimetype": "text/x-python",
   "name": "python",
   "nbconvert_exporter": "python",
   "pygments_lexer": "ipython3",
   "version": "3.11.6"
  }
 },
 "nbformat": 4,
 "nbformat_minor": 5
}
